{
 "cells": [
  {
   "cell_type": "markdown",
   "metadata": {},
   "source": [
    "# Data EDA"
   ]
  },
  {
   "cell_type": "markdown",
   "metadata": {},
   "source": [
    "## global data"
   ]
  },
  {
   "cell_type": "code",
   "execution_count": 1,
   "metadata": {},
   "outputs": [
    {
     "name": "stderr",
     "output_type": "stream",
     "text": [
      "Setting default log level to \"WARN\".\n",
      "To adjust logging level use sc.setLogLevel(newLevel). For SparkR, use setLogLevel(newLevel).\n",
      "25/04/13 18:44:56 WARN NativeCodeLoader: Unable to load native-hadoop library for your platform... using builtin-java classes where applicable\n"
     ]
    }
   ],
   "source": [
    "from pyspark.sql import SparkSession\n",
    "from pyspark.sql import functions as F\n",
    "from pyspark.sql.types import *\n",
    "\n",
    "# initialize spark\n",
    "spark = SparkSession.builder \\\n",
    "    .appName(\"News Data Analysis\") \\\n",
    "    .config(\"spark.driver.extraJavaOptions\", \"-Xlog:disable\") \\\n",
    "    .config(\"spark.executor.extraJavaOptions\", \"-Xlog:disable\") \\\n",
    "    .config(\"spark.driver.memory\", \"4g\") \\\n",
    "    .config(\"spark.executor.memory\", \"4g\") \\\n",
    "    .getOrCreate()"
   ]
  },
  {
   "cell_type": "code",
   "execution_count": 2,
   "metadata": {},
   "outputs": [],
   "source": [
    "# define the schema\n",
    "schema = StructType([\n",
    "    StructField(\"timestamp\", IntegerType(), True),\n",
    "    StructField(\"source\", StringType(), True),\n",
    "    StructField(\"archive\", StringType(), True),\n",
    "    StructField(\"id\", IntegerType(), True),\n",
    "    StructField(\"probability\", FloatType(), True),\n",
    "    StructField(\"keywords\", MapType(StringType(), IntegerType()), True),\n",
    "    StructField(\"sentiment\", FloatType(), True),\n",
    "    #StructField(\"status\", StringType(), True),\n",
    "    #StructField(\"error\", StringType(), True)\n",
    "])"
   ]
  },
  {
   "cell_type": "code",
   "execution_count": 3,
   "metadata": {},
   "outputs": [
    {
     "name": "stderr",
     "output_type": "stream",
     "text": [
      "OpenJDK 64-Bit Server VM warning: CodeCache is full. Compiler has been disabled.\n",
      "OpenJDK 64-Bit Server VM warning: Try increasing the code cache size using -XX:ReservedCodeCacheSize=\n"
     ]
    },
    {
     "name": "stdout",
     "output_type": "stream",
     "text": [
      "CodeCache: size=131072Kb used=23679Kb max_used=23688Kb free=107392Kb\n",
      " bounds [0x000000010a98c000, 0x000000010c0dc000, 0x000000011298c000]\n",
      " total_blobs=9852 nmethods=8931 adapters=836\n",
      " compilation: disabled (not enough contiguous free space left)\n"
     ]
    },
    {
     "name": "stderr",
     "output_type": "stream",
     "text": [
      "                                                                                \r"
     ]
    },
    {
     "name": "stdout",
     "output_type": "stream",
     "text": [
      "Total number of links taken into consideration:  3056418\n"
     ]
    },
    {
     "name": "stderr",
     "output_type": "stream",
     "text": [
      "                                                                                \r"
     ]
    },
    {
     "name": "stdout",
     "output_type": "stream",
     "text": [
      "Number of actually success news: 682905,\n",
      "which are distributed across 4109 files.\n"
     ]
    }
   ],
   "source": [
    "df01 = spark.read.format(\"json\").schema(schema).load(\"data/news/status=success\")\n",
    "df02 = spark.read.format(\"json\").schema(schema).load(\"data/news/status=error\")\n",
    "df03 = spark.read.format(\"json\").schema(schema).load(\"data/news/status=duplicate\")\n",
    "df04 = spark.read.format(\"json\").schema(schema).load(\"data/news/status=notnews\")\n",
    "\n",
    "print(\"Total number of links taken into consideration: \", df01.count() + df02.count() + df03.count() + df04.count())\n",
    "print(f\"Number of actually success news: {df01.count()},\")\n",
    "print(f\"which are distributed across {len(df01.inputFiles())} files.\")"
   ]
  },
  {
   "cell_type": "code",
   "execution_count": 4,
   "metadata": {},
   "outputs": [
    {
     "name": "stdout",
     "output_type": "stream",
     "text": [
      "root\n",
      " |-- timestamp: integer (nullable = true)\n",
      " |-- source: string (nullable = true)\n",
      " |-- archive: string (nullable = true)\n",
      " |-- id: integer (nullable = true)\n",
      " |-- probability: float (nullable = true)\n",
      " |-- keywords: map (nullable = true)\n",
      " |    |-- key: string\n",
      " |    |-- value: integer (valueContainsNull = true)\n",
      " |-- sentiment: float (nullable = true)\n",
      "\n"
     ]
    }
   ],
   "source": [
    "df01.printSchema()"
   ]
  },
  {
   "cell_type": "code",
   "execution_count": 5,
   "metadata": {},
   "outputs": [
    {
     "name": "stdout",
     "output_type": "stream",
     "text": [
      "+---------+-------+--------------------+-------+-----------+--------------------+----------+\n",
      "|timestamp| source|             archive|     id|probability|            keywords| sentiment|\n",
      "+---------+-------+--------------------+-------+-----------+--------------------+----------+\n",
      "|   202302|Público|https://arquivo.p...|2998907| 0.54230416|{Pearl Jam -> 1, ...|0.65978855|\n",
      "|   202302|    RTP|https://arquivo.p...|3002030| 0.54930234|{ÁREAS -> 2, cida...| 0.6770514|\n",
      "|   202302|    RTP|https://arquivo.p...|2998531|  0.6112756|{função -> 2, can...| 0.6864225|\n",
      "|   202302|    RTP|https://arquivo.p...|2998750|  0.5712072|{Op -> 1, cancela...|0.66953796|\n",
      "|   202302|    RTP|https://arquivo.p...|2999652|  0.5997843|{gigante -> 2, co...|-0.5735483|\n",
      "+---------+-------+--------------------+-------+-----------+--------------------+----------+\n",
      "only showing top 5 rows\n",
      "\n"
     ]
    }
   ],
   "source": [
    "df01.show(5)"
   ]
  },
  {
   "cell_type": "code",
   "execution_count": 6,
   "metadata": {},
   "outputs": [],
   "source": [
    "spark.stop()\n",
    "%reset -f"
   ]
  },
  {
   "cell_type": "markdown",
   "metadata": {},
   "source": [
    "## good (preprocessed) data"
   ]
  },
  {
   "cell_type": "code",
   "execution_count": 7,
   "metadata": {},
   "outputs": [],
   "source": [
    "from pyspark.sql import SparkSession\n",
    "from pyspark.sql import functions as F\n",
    "from pyspark.sql.types import *\n",
    "\n",
    "# initialize spark\n",
    "spark = SparkSession.builder \\\n",
    "    .appName(\"News Data Analysis\") \\\n",
    "    .config(\"spark.driver.extraJavaOptions\", \"-Xlog:disable\") \\\n",
    "    .config(\"spark.executor.extraJavaOptions\", \"-Xlog:disable\") \\\n",
    "    .config(\"spark.driver.memory\", \"4g\") \\\n",
    "    .config(\"spark.executor.memory\", \"4g\") \\\n",
    "    .getOrCreate()"
   ]
  },
  {
   "cell_type": "code",
   "execution_count": 8,
   "metadata": {},
   "outputs": [],
   "source": [
    "df = spark.read.parquet(\"data/news_processed\")"
   ]
  },
  {
   "cell_type": "code",
   "execution_count": 9,
   "metadata": {},
   "outputs": [
    {
     "name": "stdout",
     "output_type": "stream",
     "text": [
      "root\n",
      " |-- timestamp: integer (nullable = true)\n",
      " |-- source: string (nullable = true)\n",
      " |-- archive: string (nullable = true)\n",
      " |-- id: integer (nullable = true)\n",
      " |-- probability: float (nullable = true)\n",
      " |-- keywords: map (nullable = true)\n",
      " |    |-- key: string\n",
      " |    |-- value: integer (valueContainsNull = true)\n",
      " |-- sentiment: double (nullable = true)\n",
      " |-- significant_keywords: array (nullable = true)\n",
      " |    |-- element: string (containsNull = true)\n",
      "\n"
     ]
    }
   ],
   "source": [
    "df.printSchema()"
   ]
  },
  {
   "cell_type": "code",
   "execution_count": 10,
   "metadata": {},
   "outputs": [
    {
     "name": "stdout",
     "output_type": "stream",
     "text": [
      "Total number of news:  349519\n",
      "First date in the dataset:  199801\n",
      "Last date in the dataset:  202411\n",
      "Number of unique sources:  20\n"
     ]
    },
    {
     "name": "stderr",
     "output_type": "stream",
     "text": [
      "[Stage 14:>                                                         (0 + 8) / 8]\r"
     ]
    },
    {
     "name": "stdout",
     "output_type": "stream",
     "text": [
      "Number of unique keywords: 1324793\n"
     ]
    },
    {
     "name": "stderr",
     "output_type": "stream",
     "text": [
      "                                                                                \r"
     ]
    }
   ],
   "source": [
    "print(\"Total number of news: \", df.count())\n",
    "print(\"First date in the dataset: \", df.select(\"timestamp\").orderBy(\"timestamp\").first()[0])\n",
    "print(\"Last date in the dataset: \", df.select(\"timestamp\").orderBy(df.timestamp.desc()).first()[0])\n",
    "print(\"Number of unique sources: \", df.select(\"source\").distinct().count())\n",
    "print(\"Number of unique keywords:\", df.select(F.explode(\"keywords\").alias(\"k\", \"v\")).select(\"k\").distinct().count())"
   ]
  },
  {
   "cell_type": "code",
   "execution_count": 11,
   "metadata": {},
   "outputs": [
    {
     "name": "stdout",
     "output_type": "stream",
     "text": [
      "+---------+-------------+--------------------+-------+-----------+--------------------+------------------+--------------------+\n",
      "|timestamp|       source|             archive|     id|probability|            keywords|         sentiment|significant_keywords|\n",
      "+---------+-------------+--------------------+-------+-----------+--------------------+------------------+--------------------+\n",
      "|   201911|Dinheiro Vivo|https://arquivo.p...|1735823|   0.649114|{Rendimento -> 4,...|0.4046257495880127|[portugal, euro, ...|\n",
      "|   201902|Dinheiro Vivo|https://arquivo.p...|1371223| 0.52495015|{Só -> 1, Estrutu...|0.6423046350479126|    [tesla, bateria]|\n",
      "|   201712|Dinheiro Vivo|https://arquivo.p...| 779690| 0.62055546|{CTT -> 1, smartp...|0.2865161657333374|[canal, televisao...|\n",
      "|   202003|      Público|https://arquivo.p...|2030825| 0.66034263|{Diagnóstico -> 2...|0.7486852169036865|[perito, vinho, i...|\n",
      "|   202102|          RTP|https://arquivo.p...|2349281| 0.57806003|{PP -> 1, Popular...|0.7340320110321045|[catalunha, parti...|\n",
      "+---------+-------------+--------------------+-------+-----------+--------------------+------------------+--------------------+\n",
      "only showing top 5 rows\n",
      "\n"
     ]
    }
   ],
   "source": [
    "df.show(5)"
   ]
  },
  {
   "cell_type": "markdown",
   "metadata": {},
   "source": [
    "## filtering query / specific keyword"
   ]
  },
  {
   "cell_type": "markdown",
   "metadata": {},
   "source": [
    "[OLD] benchmarking the performance of the query\n",
    "\n",
    "with cache\n",
    "\n",
    "```\n",
    "Galp: 18.44\n",
    "galp: 13.70\n",
    "Millenium: 16.94\n",
    "```\n",
    "\n",
    "without cache\n",
    "\n",
    "```\n",
    "Millenium: > 31\n",
    "```"
   ]
  },
  {
   "cell_type": "code",
   "execution_count": 12,
   "metadata": {},
   "outputs": [],
   "source": [
    "query = \"galp\"\n",
    "\n",
    "import re\n",
    "import unicodedata\n",
    "\n",
    "def standardize_keyword(texto):\n",
    "    texto = texto.lower()\n",
    "    texto = unicodedata.normalize('NFKD', texto).encode('ASCII', 'ignore').decode('utf-8')\n",
    "    texto = re.sub(r'[^a-z0-9\\s]', ' ', texto)\n",
    "    texto = re.sub(r'\\s+', ' ', texto)\n",
    "    return texto.strip()"
   ]
  },
  {
   "cell_type": "code",
   "execution_count": 13,
   "metadata": {},
   "outputs": [
    {
     "name": "stdout",
     "output_type": "stream",
     "text": [
      "Number of news with the query: 1277\n",
      "+---------+-------------+--------------------+-------+-----------+--------------------+--------------------+--------------------+\n",
      "|timestamp|       source|             archive|     id|probability|            keywords|           sentiment|significant_keywords|\n",
      "+---------+-------------+--------------------+-------+-----------+--------------------+--------------------+--------------------+\n",
      "|   201804|Dinheiro Vivo|https://arquivo.p...| 953443|  0.7109523|{Hoje -> 1, Meta ...|  0.5895840287208557|[trimestre, aumen...|\n",
      "|   201905|     Expresso|https://arquivo.p...|1509735| 0.57049173|{Empresa -> 2, re...|-0.46501868963241577|[viagem, assuntos...|\n",
      "|   202007|         SAPO|https://arquivo.p...|2180320|   0.533329|{Ramalho -> 2, Em...|  0.6600978136062622|[empresa, ventila...|\n",
      "|   202009|     Expresso|https://arquivo.p...|2233209| 0.78600085|{Refinação -> 2, ...|  0.6525238513946533|[empresa, refinar...|\n",
      "|   201804|         SAPO|https://arquivo.p...| 973186| 0.50546914|{Marcelino -> 2, ...|  0.6183906555175781|[render, tribunal...|\n",
      "+---------+-------------+--------------------+-------+-----------+--------------------+--------------------+--------------------+\n",
      "only showing top 5 rows\n",
      "\n"
     ]
    }
   ],
   "source": [
    "# find the query in the df and keep those news\n",
    "df_with_query = df.filter(F.array_contains(df[\"significant_keywords\"], standardize_keyword(query)))\n",
    "\n",
    "print(f\"Number of news with the query: {df_with_query.count()}\")\n",
    "\n",
    "df_with_query.show(5)"
   ]
  },
  {
   "cell_type": "code",
   "execution_count": 14,
   "metadata": {},
   "outputs": [],
   "source": [
    "# create key value pairs for each seen keyword\n",
    "result = df_with_query.rdd.flatMap(lambda row: [\n",
    "    (key, (\n",
    "        value if value is not None else 0,\n",
    "        {row[\"timestamp\"]: value if value is not None else 0},\n",
    "        (row[\"sentiment\"] or 0.0) * (value if value is not None else 0),\n",
    "        {row[\"source\"]: 1},\n",
    "        [row[\"archive\"]] if row[\"archive\"] is not None else []\n",
    "    )) for key, value in (row[\"keywords\"] or {}).items()\n",
    "])\n",
    "\n",
    "# reduce by key to combine the values\n",
    "result = result.reduceByKey(lambda a, b: (\n",
    "    a[0] + b[0],  # sum counts\n",
    "    {ts: a[1].get(ts, 0) + b[1].get(ts, 0) for ts in set(a[1]) | set(b[1])},  # merge timestamp dictionaries\n",
    "    a[2] + b[2],  # sum sentiments\n",
    "    {source: a[3].get(source, 0) + b[3].get(source, 0) for source in set(a[3]) | set(b[3])},  # merge source dictionaries\n",
    "    a[4] + b[4]  # concatenate news lists\n",
    "))\n",
    "\n",
    "# remove where key is same as standardized keyword\n",
    "result = result.filter(lambda x: standardize_keyword(x[0]) != standardize_keyword(query))\n",
    "\n",
    "# divide sentiment by count to get average sentiment\n",
    "result = result.mapValues(lambda x: (\n",
    "    x[0],\n",
    "    x[1],\n",
    "    x[2] / x[0] if x[0] > 0 else 0,\n",
    "    x[3],\n",
    "    x[4]\n",
    "))"
   ]
  },
  {
   "cell_type": "markdown",
   "metadata": {},
   "source": [
    "### info"
   ]
  },
  {
   "cell_type": "code",
   "execution_count": 15,
   "metadata": {},
   "outputs": [
    {
     "name": "stdout",
     "output_type": "stream",
     "text": [
      "Number of news with the query: 1277\n",
      "First date in the dataset: 200502\n"
     ]
    },
    {
     "name": "stderr",
     "output_type": "stream",
     "text": [
      "[Stage 27:==================================================>       (7 + 1) / 8]\r"
     ]
    },
    {
     "name": "stdout",
     "output_type": "stream",
     "text": [
      "Number of unique keywords with the query: 31788\n"
     ]
    },
    {
     "name": "stderr",
     "output_type": "stream",
     "text": [
      "                                                                                \r"
     ]
    }
   ],
   "source": [
    "print(f\"Number of news with the query: {df_with_query.count()}\")\n",
    "print(f\"First date in the dataset: {df_with_query.select('timestamp').orderBy('timestamp').first()[0]}\")\n",
    "print(f\"Number of unique keywords with the query: {result.count()}\")"
   ]
  },
  {
   "cell_type": "markdown",
   "metadata": {},
   "source": [
    "### graph\n",
    "\n",
    "input : *K* top words json"
   ]
  },
  {
   "cell_type": "code",
   "execution_count": 16,
   "metadata": {},
   "outputs": [],
   "source": [
    "K = 5\n",
    "\n",
    "top_n = (\n",
    "    result.sortBy(lambda x: x[1][0], ascending=False)\n",
    "          .take(K)\n",
    ")\n",
    "\n",
    "input = dict(top_n)\n",
    "\n",
    "# use graph.py"
   ]
  },
  {
   "cell_type": "markdown",
   "metadata": {},
   "source": [
    "### sources pie\n",
    "\n",
    "df_with_query -> sources and count"
   ]
  },
  {
   "cell_type": "code",
   "execution_count": 17,
   "metadata": {},
   "outputs": [
    {
     "data": {
      "application/vnd.plotly.v1+json": {
       "config": {
        "displayModeBar": false,
        "plotlyServerURL": "https://plot.ly"
       },
       "data": [
        {
         "hoverinfo": "label+value+percent",
         "hovertemplate": "<b>%{label}</b><br>Notícias: %{value}<br>Percentagem: %{percent:.2%}<extra></extra>",
         "labels": [
          "IOL",
          "Público",
          "SAPO",
          "AEIOU",
          "Dinheiro Vivo",
          "RTP",
          "SIC Notícias",
          "Jornal de Negócios",
          "Correio da Manhã",
          "Expresso",
          "Observador",
          "Notícias ao Minuto",
          "Diário de Notícias",
          "Lusa"
         ],
         "textfont": {
          "size": 12
         },
         "textinfo": "label",
         "textposition": "inside",
         "type": "pie",
         "values": {
          "bdata": "GwA6AGsCFQCyAG0AQgAwACAAIQBPAAUAAQABAA==",
          "dtype": "i2"
         }
        }
       ],
       "layout": {
        "margin": {
         "b": 25,
         "l": 0,
         "r": 0,
         "t": 25
        },
        "paper_bgcolor": "rgba(0,0,0,0)",
        "plot_bgcolor": "rgba(0,0,0,0)",
        "showlegend": false,
        "template": {
         "data": {
          "bar": [
           {
            "error_x": {
             "color": "#2a3f5f"
            },
            "error_y": {
             "color": "#2a3f5f"
            },
            "marker": {
             "line": {
              "color": "#E5ECF6",
              "width": 0.5
             },
             "pattern": {
              "fillmode": "overlay",
              "size": 10,
              "solidity": 0.2
             }
            },
            "type": "bar"
           }
          ],
          "barpolar": [
           {
            "marker": {
             "line": {
              "color": "#E5ECF6",
              "width": 0.5
             },
             "pattern": {
              "fillmode": "overlay",
              "size": 10,
              "solidity": 0.2
             }
            },
            "type": "barpolar"
           }
          ],
          "carpet": [
           {
            "aaxis": {
             "endlinecolor": "#2a3f5f",
             "gridcolor": "white",
             "linecolor": "white",
             "minorgridcolor": "white",
             "startlinecolor": "#2a3f5f"
            },
            "baxis": {
             "endlinecolor": "#2a3f5f",
             "gridcolor": "white",
             "linecolor": "white",
             "minorgridcolor": "white",
             "startlinecolor": "#2a3f5f"
            },
            "type": "carpet"
           }
          ],
          "choropleth": [
           {
            "colorbar": {
             "outlinewidth": 0,
             "ticks": ""
            },
            "type": "choropleth"
           }
          ],
          "contour": [
           {
            "colorbar": {
             "outlinewidth": 0,
             "ticks": ""
            },
            "colorscale": [
             [
              0,
              "#0d0887"
             ],
             [
              0.1111111111111111,
              "#46039f"
             ],
             [
              0.2222222222222222,
              "#7201a8"
             ],
             [
              0.3333333333333333,
              "#9c179e"
             ],
             [
              0.4444444444444444,
              "#bd3786"
             ],
             [
              0.5555555555555556,
              "#d8576b"
             ],
             [
              0.6666666666666666,
              "#ed7953"
             ],
             [
              0.7777777777777778,
              "#fb9f3a"
             ],
             [
              0.8888888888888888,
              "#fdca26"
             ],
             [
              1,
              "#f0f921"
             ]
            ],
            "type": "contour"
           }
          ],
          "contourcarpet": [
           {
            "colorbar": {
             "outlinewidth": 0,
             "ticks": ""
            },
            "type": "contourcarpet"
           }
          ],
          "heatmap": [
           {
            "colorbar": {
             "outlinewidth": 0,
             "ticks": ""
            },
            "colorscale": [
             [
              0,
              "#0d0887"
             ],
             [
              0.1111111111111111,
              "#46039f"
             ],
             [
              0.2222222222222222,
              "#7201a8"
             ],
             [
              0.3333333333333333,
              "#9c179e"
             ],
             [
              0.4444444444444444,
              "#bd3786"
             ],
             [
              0.5555555555555556,
              "#d8576b"
             ],
             [
              0.6666666666666666,
              "#ed7953"
             ],
             [
              0.7777777777777778,
              "#fb9f3a"
             ],
             [
              0.8888888888888888,
              "#fdca26"
             ],
             [
              1,
              "#f0f921"
             ]
            ],
            "type": "heatmap"
           }
          ],
          "histogram": [
           {
            "marker": {
             "pattern": {
              "fillmode": "overlay",
              "size": 10,
              "solidity": 0.2
             }
            },
            "type": "histogram"
           }
          ],
          "histogram2d": [
           {
            "colorbar": {
             "outlinewidth": 0,
             "ticks": ""
            },
            "colorscale": [
             [
              0,
              "#0d0887"
             ],
             [
              0.1111111111111111,
              "#46039f"
             ],
             [
              0.2222222222222222,
              "#7201a8"
             ],
             [
              0.3333333333333333,
              "#9c179e"
             ],
             [
              0.4444444444444444,
              "#bd3786"
             ],
             [
              0.5555555555555556,
              "#d8576b"
             ],
             [
              0.6666666666666666,
              "#ed7953"
             ],
             [
              0.7777777777777778,
              "#fb9f3a"
             ],
             [
              0.8888888888888888,
              "#fdca26"
             ],
             [
              1,
              "#f0f921"
             ]
            ],
            "type": "histogram2d"
           }
          ],
          "histogram2dcontour": [
           {
            "colorbar": {
             "outlinewidth": 0,
             "ticks": ""
            },
            "colorscale": [
             [
              0,
              "#0d0887"
             ],
             [
              0.1111111111111111,
              "#46039f"
             ],
             [
              0.2222222222222222,
              "#7201a8"
             ],
             [
              0.3333333333333333,
              "#9c179e"
             ],
             [
              0.4444444444444444,
              "#bd3786"
             ],
             [
              0.5555555555555556,
              "#d8576b"
             ],
             [
              0.6666666666666666,
              "#ed7953"
             ],
             [
              0.7777777777777778,
              "#fb9f3a"
             ],
             [
              0.8888888888888888,
              "#fdca26"
             ],
             [
              1,
              "#f0f921"
             ]
            ],
            "type": "histogram2dcontour"
           }
          ],
          "mesh3d": [
           {
            "colorbar": {
             "outlinewidth": 0,
             "ticks": ""
            },
            "type": "mesh3d"
           }
          ],
          "parcoords": [
           {
            "line": {
             "colorbar": {
              "outlinewidth": 0,
              "ticks": ""
             }
            },
            "type": "parcoords"
           }
          ],
          "pie": [
           {
            "automargin": true,
            "type": "pie"
           }
          ],
          "scatter": [
           {
            "fillpattern": {
             "fillmode": "overlay",
             "size": 10,
             "solidity": 0.2
            },
            "type": "scatter"
           }
          ],
          "scatter3d": [
           {
            "line": {
             "colorbar": {
              "outlinewidth": 0,
              "ticks": ""
             }
            },
            "marker": {
             "colorbar": {
              "outlinewidth": 0,
              "ticks": ""
             }
            },
            "type": "scatter3d"
           }
          ],
          "scattercarpet": [
           {
            "marker": {
             "colorbar": {
              "outlinewidth": 0,
              "ticks": ""
             }
            },
            "type": "scattercarpet"
           }
          ],
          "scattergeo": [
           {
            "marker": {
             "colorbar": {
              "outlinewidth": 0,
              "ticks": ""
             }
            },
            "type": "scattergeo"
           }
          ],
          "scattergl": [
           {
            "marker": {
             "colorbar": {
              "outlinewidth": 0,
              "ticks": ""
             }
            },
            "type": "scattergl"
           }
          ],
          "scattermap": [
           {
            "marker": {
             "colorbar": {
              "outlinewidth": 0,
              "ticks": ""
             }
            },
            "type": "scattermap"
           }
          ],
          "scattermapbox": [
           {
            "marker": {
             "colorbar": {
              "outlinewidth": 0,
              "ticks": ""
             }
            },
            "type": "scattermapbox"
           }
          ],
          "scatterpolar": [
           {
            "marker": {
             "colorbar": {
              "outlinewidth": 0,
              "ticks": ""
             }
            },
            "type": "scatterpolar"
           }
          ],
          "scatterpolargl": [
           {
            "marker": {
             "colorbar": {
              "outlinewidth": 0,
              "ticks": ""
             }
            },
            "type": "scatterpolargl"
           }
          ],
          "scatterternary": [
           {
            "marker": {
             "colorbar": {
              "outlinewidth": 0,
              "ticks": ""
             }
            },
            "type": "scatterternary"
           }
          ],
          "surface": [
           {
            "colorbar": {
             "outlinewidth": 0,
             "ticks": ""
            },
            "colorscale": [
             [
              0,
              "#0d0887"
             ],
             [
              0.1111111111111111,
              "#46039f"
             ],
             [
              0.2222222222222222,
              "#7201a8"
             ],
             [
              0.3333333333333333,
              "#9c179e"
             ],
             [
              0.4444444444444444,
              "#bd3786"
             ],
             [
              0.5555555555555556,
              "#d8576b"
             ],
             [
              0.6666666666666666,
              "#ed7953"
             ],
             [
              0.7777777777777778,
              "#fb9f3a"
             ],
             [
              0.8888888888888888,
              "#fdca26"
             ],
             [
              1,
              "#f0f921"
             ]
            ],
            "type": "surface"
           }
          ],
          "table": [
           {
            "cells": {
             "fill": {
              "color": "#EBF0F8"
             },
             "line": {
              "color": "white"
             }
            },
            "header": {
             "fill": {
              "color": "#C8D4E3"
             },
             "line": {
              "color": "white"
             }
            },
            "type": "table"
           }
          ]
         },
         "layout": {
          "annotationdefaults": {
           "arrowcolor": "#2a3f5f",
           "arrowhead": 0,
           "arrowwidth": 1
          },
          "autotypenumbers": "strict",
          "coloraxis": {
           "colorbar": {
            "outlinewidth": 0,
            "ticks": ""
           }
          },
          "colorscale": {
           "diverging": [
            [
             0,
             "#8e0152"
            ],
            [
             0.1,
             "#c51b7d"
            ],
            [
             0.2,
             "#de77ae"
            ],
            [
             0.3,
             "#f1b6da"
            ],
            [
             0.4,
             "#fde0ef"
            ],
            [
             0.5,
             "#f7f7f7"
            ],
            [
             0.6,
             "#e6f5d0"
            ],
            [
             0.7,
             "#b8e186"
            ],
            [
             0.8,
             "#7fbc41"
            ],
            [
             0.9,
             "#4d9221"
            ],
            [
             1,
             "#276419"
            ]
           ],
           "sequential": [
            [
             0,
             "#0d0887"
            ],
            [
             0.1111111111111111,
             "#46039f"
            ],
            [
             0.2222222222222222,
             "#7201a8"
            ],
            [
             0.3333333333333333,
             "#9c179e"
            ],
            [
             0.4444444444444444,
             "#bd3786"
            ],
            [
             0.5555555555555556,
             "#d8576b"
            ],
            [
             0.6666666666666666,
             "#ed7953"
            ],
            [
             0.7777777777777778,
             "#fb9f3a"
            ],
            [
             0.8888888888888888,
             "#fdca26"
            ],
            [
             1,
             "#f0f921"
            ]
           ],
           "sequentialminus": [
            [
             0,
             "#0d0887"
            ],
            [
             0.1111111111111111,
             "#46039f"
            ],
            [
             0.2222222222222222,
             "#7201a8"
            ],
            [
             0.3333333333333333,
             "#9c179e"
            ],
            [
             0.4444444444444444,
             "#bd3786"
            ],
            [
             0.5555555555555556,
             "#d8576b"
            ],
            [
             0.6666666666666666,
             "#ed7953"
            ],
            [
             0.7777777777777778,
             "#fb9f3a"
            ],
            [
             0.8888888888888888,
             "#fdca26"
            ],
            [
             1,
             "#f0f921"
            ]
           ]
          },
          "colorway": [
           "#636efa",
           "#EF553B",
           "#00cc96",
           "#ab63fa",
           "#FFA15A",
           "#19d3f3",
           "#FF6692",
           "#B6E880",
           "#FF97FF",
           "#FECB52"
          ],
          "font": {
           "color": "#2a3f5f"
          },
          "geo": {
           "bgcolor": "white",
           "lakecolor": "white",
           "landcolor": "#E5ECF6",
           "showlakes": true,
           "showland": true,
           "subunitcolor": "white"
          },
          "hoverlabel": {
           "align": "left"
          },
          "hovermode": "closest",
          "mapbox": {
           "style": "light"
          },
          "paper_bgcolor": "white",
          "plot_bgcolor": "#E5ECF6",
          "polar": {
           "angularaxis": {
            "gridcolor": "white",
            "linecolor": "white",
            "ticks": ""
           },
           "bgcolor": "#E5ECF6",
           "radialaxis": {
            "gridcolor": "white",
            "linecolor": "white",
            "ticks": ""
           }
          },
          "scene": {
           "xaxis": {
            "backgroundcolor": "#E5ECF6",
            "gridcolor": "white",
            "gridwidth": 2,
            "linecolor": "white",
            "showbackground": true,
            "ticks": "",
            "zerolinecolor": "white"
           },
           "yaxis": {
            "backgroundcolor": "#E5ECF6",
            "gridcolor": "white",
            "gridwidth": 2,
            "linecolor": "white",
            "showbackground": true,
            "ticks": "",
            "zerolinecolor": "white"
           },
           "zaxis": {
            "backgroundcolor": "#E5ECF6",
            "gridcolor": "white",
            "gridwidth": 2,
            "linecolor": "white",
            "showbackground": true,
            "ticks": "",
            "zerolinecolor": "white"
           }
          },
          "shapedefaults": {
           "line": {
            "color": "#2a3f5f"
           }
          },
          "ternary": {
           "aaxis": {
            "gridcolor": "white",
            "linecolor": "white",
            "ticks": ""
           },
           "baxis": {
            "gridcolor": "white",
            "linecolor": "white",
            "ticks": ""
           },
           "bgcolor": "#E5ECF6",
           "caxis": {
            "gridcolor": "white",
            "linecolor": "white",
            "ticks": ""
           }
          },
          "title": {
           "x": 0.05
          },
          "xaxis": {
           "automargin": true,
           "gridcolor": "white",
           "linecolor": "white",
           "ticks": "",
           "title": {
            "standoff": 15
           },
           "zerolinecolor": "white",
           "zerolinewidth": 2
          },
          "yaxis": {
           "automargin": true,
           "gridcolor": "white",
           "linecolor": "white",
           "ticks": "",
           "title": {
            "standoff": 15
           },
           "zerolinecolor": "white",
           "zerolinewidth": 2
          }
         }
        }
       }
      }
     },
     "metadata": {},
     "output_type": "display_data"
    }
   ],
   "source": [
    "from pyspark.sql import functions as F\n",
    "import plotly.graph_objects as go\n",
    "\n",
    "# Group by the column and count the values\n",
    "value_counts_df = df_with_query.groupBy('source').count().toPandas()\n",
    "\n",
    "# Extract labels and values directly\n",
    "labels = value_counts_df['source']\n",
    "values = value_counts_df['count']\n",
    "\n",
    "fig = go.Figure(data=[go.Pie(\n",
    "    labels=labels,\n",
    "    values=values,\n",
    "    hoverinfo='label+value+percent',\n",
    "    hovertemplate=\"<b>%{label}</b><br>Notícias: %{value}<br>Percentagem: %{percent:.2%}<extra></extra>\"\n",
    ")])\n",
    "\n",
    "fig.update_traces(\n",
    "    textposition='inside',\n",
    "    textinfo='label',\n",
    "    textfont_size=12\n",
    ")\n",
    "\n",
    "fig.update_layout(\n",
    "    showlegend=False,\n",
    "    paper_bgcolor='rgba(0,0,0,0)',\n",
    "    plot_bgcolor='rgba(0,0,0,0)',\n",
    "    margin=dict(t=25, b=25, l=0, r=0)\n",
    ")\n",
    "\n",
    "fig.show(\n",
    "    config={'displayModeBar': False}\n",
    ")"
   ]
  },
  {
   "cell_type": "markdown",
   "metadata": {},
   "source": [
    "### topic ts\n",
    "\n",
    "df_with_query -> timestamp, count, keywords"
   ]
  },
  {
   "cell_type": "code",
   "execution_count": 18,
   "metadata": {},
   "outputs": [
    {
     "name": "stderr",
     "output_type": "stream",
     "text": [
      "                                                                                \r"
     ]
    },
    {
     "data": {
      "application/vnd.plotly.v1+json": {
       "config": {
        "plotlyServerURL": "https://plot.ly"
       },
       "data": [
        {
         "customdata": [
          [
           "Fevereiro de 2005",
           "1. Assinar<br>2. Contrato<br>3. Parpública<br>4. Consórcio<br>5. Processo"
          ],
          [
           "Março de 2005",
           "-"
          ],
          [
           "Abril de 2005",
           "-"
          ],
          [
           "Maio de 2005",
           "-"
          ],
          [
           "Junho de 2005",
           "-"
          ],
          [
           "Julho de 2005",
           "-"
          ],
          [
           "Agosto de 2005",
           "-"
          ],
          [
           "Setembro de 2005",
           "-"
          ],
          [
           "Outubro de 2005",
           "-"
          ],
          [
           "Novembro de 2005",
           "-"
          ],
          [
           "Dezembro de 2005",
           "-"
          ],
          [
           "Janeiro de 2006",
           "-"
          ],
          [
           "Fevereiro de 2006",
           "-"
          ],
          [
           "Março de 2006",
           "-"
          ],
          [
           "Abril de 2006",
           "-"
          ],
          [
           "Maio de 2006",
           "-"
          ],
          [
           "Junho de 2006",
           "-"
          ],
          [
           "Julho de 2006",
           "-"
          ],
          [
           "Agosto de 2006",
           "-"
          ],
          [
           "Setembro de 2006",
           "-"
          ],
          [
           "Outubro de 2006",
           "-"
          ],
          [
           "Novembro de 2006",
           "-"
          ],
          [
           "Dezembro de 2006",
           "-"
          ],
          [
           "Janeiro de 2007",
           "-"
          ],
          [
           "Fevereiro de 2007",
           "-"
          ],
          [
           "Março de 2007",
           "-"
          ],
          [
           "Abril de 2007",
           "-"
          ],
          [
           "Maio de 2007",
           "-"
          ],
          [
           "Junho de 2007",
           "-"
          ],
          [
           "Julho de 2007",
           "-"
          ],
          [
           "Agosto de 2007",
           "-"
          ],
          [
           "Setembro de 2007",
           "-"
          ],
          [
           "Outubro de 2007",
           "-"
          ],
          [
           "Novembro de 2007",
           "-"
          ],
          [
           "Dezembro de 2007",
           "-"
          ],
          [
           "Janeiro de 2008",
           "-"
          ],
          [
           "Fevereiro de 2008",
           "-"
          ],
          [
           "Março de 2008",
           "-"
          ],
          [
           "Abril de 2008",
           "-"
          ],
          [
           "Maio de 2008",
           "-"
          ],
          [
           "Junho de 2008",
           "-"
          ],
          [
           "Julho de 2008",
           "-"
          ],
          [
           "Agosto de 2008",
           "-"
          ],
          [
           "Setembro de 2008",
           "-"
          ],
          [
           "Outubro de 2008",
           "-"
          ],
          [
           "Novembro de 2008",
           "-"
          ],
          [
           "Dezembro de 2008",
           "-"
          ],
          [
           "Janeiro de 2009",
           "-"
          ],
          [
           "Fevereiro de 2009",
           "-"
          ],
          [
           "Março de 2009",
           "-"
          ],
          [
           "Abril de 2009",
           "-"
          ],
          [
           "Maio de 2009",
           "-"
          ],
          [
           "Junho de 2009",
           "1. Portugal<br>2. Imposto<br>3. Ano<br>4. Bolsa<br>5. Mercado"
          ],
          [
           "Julho de 2009",
           "-"
          ],
          [
           "Agosto de 2009",
           "-"
          ],
          [
           "Setembro de 2009",
           "-"
          ],
          [
           "Outubro de 2009",
           "-"
          ],
          [
           "Novembro de 2009",
           "-"
          ],
          [
           "Dezembro de 2009",
           "-"
          ],
          [
           "Janeiro de 2010",
           "-"
          ],
          [
           "Fevereiro de 2010",
           "-"
          ],
          [
           "Março de 2010",
           "-"
          ],
          [
           "Abril de 2010",
           "1. Défice<br>2. Grécia<br>3. Portugal<br>4. Euro<br>5. Subir"
          ],
          [
           "Maio de 2010",
           "1. Portugal<br>2. Grécia<br>3. Euro<br>4. País<br>5. Galp"
          ],
          [
           "Junho de 2010",
           "-"
          ],
          [
           "Julho de 2010",
           "-"
          ],
          [
           "Agosto de 2010",
           "-"
          ],
          [
           "Setembro de 2010",
           "-"
          ],
          [
           "Outubro de 2010",
           "-"
          ],
          [
           "Novembro de 2010",
           "-"
          ],
          [
           "Dezembro de 2010",
           "-"
          ],
          [
           "Janeiro de 2011",
           "1. Galp<br>2. Inglês<br>3. Preço<br>4. Estado<br>5. Media"
          ],
          [
           "Fevereiro de 2011",
           "-"
          ],
          [
           "Março de 2011",
           "-"
          ],
          [
           "Abril de 2011",
           "-"
          ],
          [
           "Maio de 2011",
           "1. Galp<br>2. Euro<br>3. Portugal<br>4. Livro<br>5. Estado"
          ],
          [
           "Junho de 2011",
           "-"
          ],
          [
           "Julho de 2011",
           "1. Galp<br>2. Fechar<br>3. Empresa<br>4. Acção<br>5. Crise"
          ],
          [
           "Agosto de 2011",
           "-"
          ],
          [
           "Setembro de 2011",
           "-"
          ],
          [
           "Outubro de 2011",
           "-"
          ],
          [
           "Novembro de 2011",
           "1. Combustível<br>2. Galp<br>3. Fuga<br>4. Aeroporto<br>5. Posto"
          ],
          [
           "Dezembro de 2011",
           "-"
          ],
          [
           "Janeiro de 2012",
           "-"
          ],
          [
           "Fevereiro de 2012",
           "-"
          ],
          [
           "Março de 2012",
           "-"
          ],
          [
           "Abril de 2012",
           "-"
          ],
          [
           "Maio de 2012",
           "-"
          ],
          [
           "Junho de 2012",
           "-"
          ],
          [
           "Julho de 2012",
           "-"
          ],
          [
           "Agosto de 2012",
           "-"
          ],
          [
           "Setembro de 2012",
           "-"
          ],
          [
           "Outubro de 2012",
           "-"
          ],
          [
           "Novembro de 2012",
           "-"
          ],
          [
           "Dezembro de 2012",
           "-"
          ],
          [
           "Janeiro de 2013",
           "-"
          ],
          [
           "Fevereiro de 2013",
           "-"
          ],
          [
           "Março de 2013",
           "-"
          ],
          [
           "Abril de 2013",
           "-"
          ],
          [
           "Maio de 2013",
           "-"
          ],
          [
           "Junho de 2013",
           "-"
          ],
          [
           "Julho de 2013",
           "-"
          ],
          [
           "Agosto de 2013",
           "-"
          ],
          [
           "Setembro de 2013",
           "-"
          ],
          [
           "Outubro de 2013",
           "-"
          ],
          [
           "Novembro de 2013",
           "1. Euro<br>2. Setor<br>3. Galp<br>4. Acesso<br>5. Transporte"
          ],
          [
           "Dezembro de 2013",
           "-"
          ],
          [
           "Janeiro de 2014",
           "-"
          ],
          [
           "Fevereiro de 2014",
           "-"
          ],
          [
           "Março de 2014",
           "-"
          ],
          [
           "Abril de 2014",
           "-"
          ],
          [
           "Maio de 2014",
           "-"
          ],
          [
           "Junho de 2014",
           "1. Energia<br>2. Exportação<br>3. Galp<br>4. Sines<br>5. INE"
          ],
          [
           "Julho de 2014",
           "-"
          ],
          [
           "Agosto de 2014",
           "-"
          ],
          [
           "Setembro de 2014",
           "-"
          ],
          [
           "Outubro de 2014",
           "1. Galp<br>2. Morte<br>3. Governo<br>4. Estrada<br>5. Energia"
          ],
          [
           "Novembro de 2014",
           "1. Portugal<br>2. BES<br>3. Galp<br>4. Estado<br>5. REN"
          ],
          [
           "Dezembro de 2014",
           "1. Petróleo<br>2. BES<br>3. Queda<br>4. Empresa<br>5. Portugal"
          ],
          [
           "Janeiro de 2015",
           "1. Petróleo<br>2. Investimento<br>3. Mercado<br>4. Galp<br>5. Almeida"
          ],
          [
           "Fevereiro de 2015",
           "1. Galp<br>2. Empresa<br>3. Portugal<br>4. Paulo<br>5. Passar"
          ],
          [
           "Março de 2015",
           "1. Portugal<br>2. Galp<br>3. Costa<br>4. Paulo<br>5. Euro"
          ],
          [
           "Abril de 2015",
           "1. Portugal<br>2. Euro<br>3. Galp<br>4. Ano<br>5. Governo"
          ],
          [
           "Maio de 2015",
           "1. Situação<br>2. Contrato<br>3. ERSE<br>4. Consumidor<br>5. Galp"
          ],
          [
           "Junho de 2015",
           "1. Tarifa<br>2. Situação<br>3. Contrato<br>4. ERSE<br>5. Cliente"
          ],
          [
           "Julho de 2015",
           "1. Galp<br>2. Portugal<br>3. Lucro<br>4. Semestre<br>5. Euro"
          ],
          [
           "Agosto de 2015",
           "-"
          ],
          [
           "Setembro de 2015",
           "1. Galp<br>2. Portugal<br>3. Paulo<br>4. Euro<br>5. Ação"
          ],
          [
           "Outubro de 2015",
           "1. Galp<br>2. Produção<br>3. Energia<br>4. Galp Energia<br>5. PS"
          ],
          [
           "Novembro de 2015",
           "1. Galp<br>2. Petróleo<br>3. Portugal<br>4. Energia<br>5. Galp Energia"
          ],
          [
           "Dezembro de 2015",
           "1. Projeto<br>2. Arranque<br>3. Galp<br>4. Ano<br>5. Decisão"
          ],
          [
           "Janeiro de 2016",
           "1. Galp<br>2. Euro<br>3. Tribunal<br>4. Reduzir<br>5. Decisão"
          ],
          [
           "Fevereiro de 2016",
           "1. Galp<br>2. Euro<br>3. Portugal<br>4. Petróleo<br>5. Empresa"
          ],
          [
           "Março de 2016",
           "1. Petróleo<br>2. Produção<br>3. Galp<br>4. Mar<br>5. Irão"
          ],
          [
           "Abril de 2016",
           "1. Euro<br>2. Costa<br>3. Portugal<br>4. Banco<br>5. Governo"
          ],
          [
           "Maio de 2016",
           "1. Espanha<br>2. Galp<br>3. Euro<br>4. May<br>5. Multa"
          ],
          [
           "Junho de 2016",
           "1. EDP<br>2. Euro<br>3. Responder<br>4. Galp<br>5. Tarifa"
          ],
          [
           "Julho de 2016",
           "1. Galp<br>2. Concorrência<br>3. Supremo<br>4. considerar<br>5. Statoil"
          ],
          [
           "Agosto de 2016",
           "1. Galp<br>2. Viagem<br>3. Estado<br>4. Governo<br>5. Secretário"
          ],
          [
           "Setembro de 2016",
           "1. Galp<br>2. Euro<br>3. Portugal<br>4. Amorim<br>5. Governo"
          ],
          [
           "Outubro de 2016",
           "1. Galp<br>2. Portugal<br>3. Lucro<br>4. Euro<br>5. Economia"
          ],
          [
           "Novembro de 2016",
           "1. Galp<br>2. Estado<br>3. Governo<br>4. Secretário<br>5. Caso"
          ],
          [
           "Dezembro de 2016",
           "1. Galp<br>2. Energy<br>3. Direito<br>4. Kosmos<br>5. Três"
          ],
          [
           "Janeiro de 2017",
           "-"
          ],
          [
           "Fevereiro de 2017",
           "1. Galp<br>2. Euro<br>3. Governo<br>4. Estado<br>5. Conduta"
          ],
          [
           "Março de 2017",
           "1. Galp<br>2. Estado<br>3. EDP<br>4. Carregar<br>5. Governo"
          ],
          [
           "Abril de 2017",
           "1. trimestre<br>2. Galp<br>3. Produção<br>4. Empresa<br>5. Mercado"
          ],
          [
           "Maio de 2017",
           "1. Lucro<br>2. trimestre<br>3. Portugal<br>4. Redação<br>5. Cátia"
          ],
          [
           "Junho de 2017",
           "1. Galp<br>2. SAPO<br>3. Moçambique<br>4. ECO<br>5. Investimento"
          ],
          [
           "Julho de 2017",
           "1. Euro<br>2. Ferreira<br>3. Galp<br>4. Lopes<br>5. Tamara"
          ],
          [
           "Agosto de 2017",
           "1. Euro<br>2. Ferreira<br>3. Leonor<br>4. Mateus<br>5. Montepio"
          ],
          [
           "Setembro de 2017",
           "1. Portugal<br>2. José<br>3. Macário<br>4. Enfermeiro<br>5. Euro"
          ],
          [
           "Outubro de 2017",
           "1. Catalunha<br>2. Sardinha<br>3. Independência<br>4. Espanha<br>5. Marcelo"
          ],
          [
           "Novembro de 2017",
           "1. Euro<br>2. Portugal<br>3. Lisboa<br>4. Galp<br>5. Mateus"
          ],
          [
           "Dezembro de 2017",
           "1. Galp<br>2. Mercado<br>3. Portugal<br>4. Euro<br>5. Empresa"
          ],
          [
           "Janeiro de 2018",
           "1. Portugal<br>2. Euro<br>3. Galp<br>4. Ferreira<br>5. EDP"
          ],
          [
           "Fevereiro de 2018",
           "1. Galp<br>2. Euro<br>3. Portugal<br>4. Investimento<br>5. Maria"
          ],
          [
           "Março de 2018",
           "1. Altice<br>2. Capital<br>3. Media<br>4. Media Capital<br>5. Compra"
          ],
          [
           "Abril de 2018",
           "1. Portugal<br>2. Governo<br>3. Galp<br>4. Euro<br>5. Lisboa"
          ],
          [
           "Maio de 2018",
           "1. EDP<br>2. José<br>3. Euro<br>4. Lançar<br>5. José Varela Rodrigues"
          ],
          [
           "Junho de 2018",
           "1. Portugal<br>2. Japão<br>3. JE<br>4. Imprensa<br>5. Revista"
          ],
          [
           "Julho de 2018",
           "1. Robles<br>2. Ricardo<br>3. António<br>4. Euro<br>5. Ricardo Robles"
          ],
          [
           "Agosto de 2018",
           "1. Euro<br>2. Bolsa<br>3. Portugal<br>4. JE<br>5. Imprensa"
          ],
          [
           "Setembro de 2018",
           "1. Euro<br>2. Ferreira<br>3. Angola<br>4. OE2019<br>5. Leonor Mateus Ferreira"
          ],
          [
           "Outubro de 2018",
           "1. Galp<br>2. Euro<br>3. Petróleo<br>4. Energia<br>5. Carregamento"
          ],
          [
           "Novembro de 2018",
           "1. Carregamento<br>2. Euro<br>3. Posto<br>4. Galp<br>5. Eletricidade"
          ],
          [
           "Dezembro de 2018",
           "1. Galp<br>2. Preço<br>3. Angola<br>4. Sonangol<br>5. Cliente"
          ],
          [
           "Janeiro de 2019",
           "1. Galp<br>2. Desconto<br>3. EDP<br>4. Preço<br>5. Mercado"
          ],
          [
           "Fevereiro de 2019",
           "1. Galp<br>2. Euro<br>3. Produção<br>4. Petróleo<br>5. Brasil"
          ],
          [
           "Março de 2019",
           "1. Galp<br>2. Portugal<br>3. in<br>4. CDS<br>5. Administração"
          ],
          [
           "Abril de 2019",
           "1. Galp<br>2. Euro<br>3. Portugal<br>4. Conselho<br>5. Combustível"
          ],
          [
           "Maio de 2019",
           "1. Galp<br>2. Estado<br>3. Viagem<br>4. Seleção<br>5. Convite"
          ],
          [
           "Junho de 2019",
           "1. Galp<br>2. Euro<br>3. Marca<br>4. Aluno<br>5. EDP"
          ],
          [
           "Julho de 2019",
           "1. Desconto<br>2. Portugal<br>3. Galp<br>4. Fatura<br>5. Fundação"
          ],
          [
           "Agosto de 2019",
           "1. Galp<br>2. CESE<br>3. Empresa<br>4. Euro<br>5. Portugal"
          ],
          [
           "Setembro de 2019",
           "1. Galp<br>2. Costa<br>3. António<br>4. PS<br>5. António Costa"
          ],
          [
           "Outubro de 2019",
           "1. Galp<br>2. Portugal<br>3. Empresa<br>4. Oliveira<br>5. Ferreira"
          ],
          [
           "Novembro de 2019",
           "1. Galp<br>2. Portugal<br>3. Empresa<br>4. Energia<br>5. Negócio"
          ],
          [
           "Dezembro de 2019",
           "1. Galp<br>2. Euro<br>3. Portugal<br>4. Energia<br>5. Empresa"
          ],
          [
           "Janeiro de 2020",
           "1. Galp<br>2. Santos<br>3. Isabel<br>4. Isabel dos Santos<br>5. Empresa"
          ],
          [
           "Fevereiro de 2020",
           "1. Galp<br>2. Portugal<br>3. Euro<br>4. Santos<br>5. Energia"
          ],
          [
           "Março de 2020",
           "1. Galp<br>2. Santos<br>3. Isabel<br>4. Isabel dos Santos<br>5. Coronavírus"
          ],
          [
           "Abril de 2020",
           "1. Galp<br>2. Empresa<br>3. Portugal<br>4. Refinaria<br>5. Economia"
          ],
          [
           "Maio de 2020",
           "1. Galp<br>2. Empresa<br>3. Phishing<br>4. Portugal<br>5. PSI20"
          ],
          [
           "Junho de 2020",
           "1. Galp<br>2. Portugal<br>3. Empresa<br>4. Euro<br>5. Mercado"
          ],
          [
           "Julho de 2020",
           "1. Galp<br>2. Mexia<br>3. António<br>4. Portugal<br>5. Economia"
          ],
          [
           "Agosto de 2020",
           "1. Galp<br>2. Amorim<br>3. Euro<br>4. Portugal<br>5. Empresa"
          ],
          [
           "Setembro de 2020",
           "1. Galp<br>2. Atualidade<br>3. Portugal<br>4. ACS<br>5. PSI20"
          ],
          [
           "Outubro de 2020",
           "1. Galp<br>2. Portugal<br>3. Empresa<br>4. Instalação<br>5. Atualidade"
          ],
          [
           "Novembro de 2020",
           "1. Santos<br>2. Isabel<br>3. Isabel dos Santos<br>4. Empresa<br>5. Angola"
          ],
          [
           "Dezembro de 2020",
           "1. Mexia<br>2. Galp<br>3. António<br>4. Empresa<br>5. António Mexia"
          ],
          [
           "Janeiro de 2021",
           "1. Galp<br>2. Portugal<br>3. Matosinhos<br>4. Atualidade<br>5. Empresa"
          ],
          [
           "Fevereiro de 2021",
           "1. Galp<br>2. Atualidade<br>3. Notificação<br>4. SAPO<br>5. Euro"
          ],
          [
           "Março de 2021",
           "1. Galp<br>2. Notificação<br>3. Atualidade<br>4. SAPO<br>5. Energia"
          ],
          [
           "Abril de 2021",
           "1. Galp<br>2. SAPO<br>3. Atualidade<br>4. Desporto<br>5. Conselho"
          ],
          [
           "Maio de 2021",
           "1. MAI<br>2. Presidente<br>3. Galp<br>4. Matosinhos<br>5. Refinaria"
          ],
          [
           "Junho de 2021",
           "1. Galp<br>2. SAPO<br>3. Portugal<br>4. Desporto<br>5. Projeto"
          ],
          [
           "Julho de 2021",
           "1. Galp<br>2. Euro<br>3. Matosinhos<br>4. MadreMedia<br>5. Atualidade"
          ],
          [
           "Agosto de 2021",
           "1. Galp<br>2. Empresa<br>3. Pagar<br>4. Atualidade<br>5. Energia"
          ],
          [
           "Setembro de 2021",
           "1. Matosinhos<br>2. Galp<br>3. Refinaria<br>4. Costa<br>5. Empresa"
          ],
          [
           "Outubro de 2021",
           "1. Galp<br>2. Euro<br>3. Portugal<br>4. Atualidade<br>5. SAPO"
          ],
          [
           "Novembro de 2021",
           "1. Galp<br>2. SAPO<br>3. Atualidade<br>4. Euro<br>5. Notificação"
          ],
          [
           "Dezembro de 2021",
           "1. Galp<br>2. Empresa<br>3. Trabalhador<br>4. Central<br>5. Transição"
          ],
          [
           "Janeiro de 2022",
           "1. Galp<br>2. Empresa<br>3. Costa<br>4. Portugal<br>5. Economia"
          ],
          [
           "Fevereiro de 2022",
           "1. Atualidade<br>2. Brasil<br>3. SAPO<br>4. Galp<br>5. Energia"
          ],
          [
           "Março de 2022",
           "1. Ucrânia<br>2. Mercado<br>3. Rússia<br>4. Euro<br>5. Petróleo"
          ],
          [
           "Abril de 2022",
           "1. SAPO<br>2. Galp<br>3. Atualidade<br>4. Desporto<br>5. Economia"
          ],
          [
           "Maio de 2022",
           "1. Galp<br>2. Portugal<br>3. Espanha<br>4. Argélia<br>5. Energia"
          ],
          [
           "Junho de 2022",
           "-"
          ],
          [
           "Julho de 2022",
           "1. Galp<br>2. Empresa<br>3. Portugal<br>4. Santos<br>5. Euro"
          ],
          [
           "Agosto de 2022",
           "1. Galp<br>2. Euro<br>3. Preço<br>4. Portugal<br>5. Aumento"
          ],
          [
           "Setembro de 2022",
           "-"
          ],
          [
           "Outubro de 2022",
           "1. Galp<br>2. Euro<br>3. Portugal<br>4. País<br>5. Nigéria"
          ],
          [
           "Novembro de 2022",
           "1. Galp<br>2. Energia<br>3. País<br>4. Portugal<br>5. Governo"
          ],
          [
           "Dezembro de 2022",
           "1. Galp<br>2. SAPO<br>3. Atualidade<br>4. Mercado<br>5. Igualdade"
          ],
          [
           "Janeiro de 2023",
           "1. trimestre<br>2. Galp<br>3. Euro<br>4. País<br>5. Atualidade"
          ],
          [
           "Fevereiro de 2023",
           "1. Galp<br>2. Euro<br>3. Atualidade<br>4. Empresa<br>5. Notificação"
          ],
          [
           "Março de 2023",
           "1. Galp<br>2. Euro<br>3. Lucro<br>4. Alta<br>5. Lisboa"
          ],
          [
           "Abril de 2023",
           "1. Receber<br>2. Descida<br>3. Eletricidade<br>4. Matar<br>5. Preço"
          ],
          [
           "Maio de 2023",
           "-"
          ],
          [
           "Junho de 2023",
           "-"
          ],
          [
           "Julho de 2023",
           "-"
          ],
          [
           "Agosto de 2023",
           "-"
          ],
          [
           "Setembro de 2023",
           "-"
          ],
          [
           "Outubro de 2023",
           "-"
          ],
          [
           "Novembro de 2023",
           "-"
          ],
          [
           "Dezembro de 2023",
           "-"
          ],
          [
           "Janeiro de 2024",
           "1. Portugal<br>2. Silva<br>3. Bárbara<br>4. Almeida<br>5. Cabral"
          ]
         ],
         "hoverlabel": {
          "bgcolor": "rgb(101, 110, 242)",
          "bordercolor": "rgb(101, 110, 242)",
          "font": {
           "color": "white"
          }
         },
         "hovertemplate": "<b>Data:</b> %{customdata[0]}<br><b>📊 Notícias:</b> %{y}<br><b>Top 5 Tópicos:</b><br>%{customdata[1]}",
         "legendgroup": "",
         "line": {
          "color": "rgb(101, 110, 242)",
          "dash": "solid",
          "shape": "linear"
         },
         "marker": {
          "symbol": "circle"
         },
         "mode": "lines",
         "name": "",
         "orientation": "v",
         "showlegend": false,
         "type": "scatter",
         "x": [
          "2005-02-01T00:00:00.000000000",
          "2005-03-01T00:00:00.000000000",
          "2005-04-01T00:00:00.000000000",
          "2005-05-01T00:00:00.000000000",
          "2005-06-01T00:00:00.000000000",
          "2005-07-01T00:00:00.000000000",
          "2005-08-01T00:00:00.000000000",
          "2005-09-01T00:00:00.000000000",
          "2005-10-01T00:00:00.000000000",
          "2005-11-01T00:00:00.000000000",
          "2005-12-01T00:00:00.000000000",
          "2006-01-01T00:00:00.000000000",
          "2006-02-01T00:00:00.000000000",
          "2006-03-01T00:00:00.000000000",
          "2006-04-01T00:00:00.000000000",
          "2006-05-01T00:00:00.000000000",
          "2006-06-01T00:00:00.000000000",
          "2006-07-01T00:00:00.000000000",
          "2006-08-01T00:00:00.000000000",
          "2006-09-01T00:00:00.000000000",
          "2006-10-01T00:00:00.000000000",
          "2006-11-01T00:00:00.000000000",
          "2006-12-01T00:00:00.000000000",
          "2007-01-01T00:00:00.000000000",
          "2007-02-01T00:00:00.000000000",
          "2007-03-01T00:00:00.000000000",
          "2007-04-01T00:00:00.000000000",
          "2007-05-01T00:00:00.000000000",
          "2007-06-01T00:00:00.000000000",
          "2007-07-01T00:00:00.000000000",
          "2007-08-01T00:00:00.000000000",
          "2007-09-01T00:00:00.000000000",
          "2007-10-01T00:00:00.000000000",
          "2007-11-01T00:00:00.000000000",
          "2007-12-01T00:00:00.000000000",
          "2008-01-01T00:00:00.000000000",
          "2008-02-01T00:00:00.000000000",
          "2008-03-01T00:00:00.000000000",
          "2008-04-01T00:00:00.000000000",
          "2008-05-01T00:00:00.000000000",
          "2008-06-01T00:00:00.000000000",
          "2008-07-01T00:00:00.000000000",
          "2008-08-01T00:00:00.000000000",
          "2008-09-01T00:00:00.000000000",
          "2008-10-01T00:00:00.000000000",
          "2008-11-01T00:00:00.000000000",
          "2008-12-01T00:00:00.000000000",
          "2009-01-01T00:00:00.000000000",
          "2009-02-01T00:00:00.000000000",
          "2009-03-01T00:00:00.000000000",
          "2009-04-01T00:00:00.000000000",
          "2009-05-01T00:00:00.000000000",
          "2009-06-01T00:00:00.000000000",
          "2009-07-01T00:00:00.000000000",
          "2009-08-01T00:00:00.000000000",
          "2009-09-01T00:00:00.000000000",
          "2009-10-01T00:00:00.000000000",
          "2009-11-01T00:00:00.000000000",
          "2009-12-01T00:00:00.000000000",
          "2010-01-01T00:00:00.000000000",
          "2010-02-01T00:00:00.000000000",
          "2010-03-01T00:00:00.000000000",
          "2010-04-01T00:00:00.000000000",
          "2010-05-01T00:00:00.000000000",
          "2010-06-01T00:00:00.000000000",
          "2010-07-01T00:00:00.000000000",
          "2010-08-01T00:00:00.000000000",
          "2010-09-01T00:00:00.000000000",
          "2010-10-01T00:00:00.000000000",
          "2010-11-01T00:00:00.000000000",
          "2010-12-01T00:00:00.000000000",
          "2011-01-01T00:00:00.000000000",
          "2011-02-01T00:00:00.000000000",
          "2011-03-01T00:00:00.000000000",
          "2011-04-01T00:00:00.000000000",
          "2011-05-01T00:00:00.000000000",
          "2011-06-01T00:00:00.000000000",
          "2011-07-01T00:00:00.000000000",
          "2011-08-01T00:00:00.000000000",
          "2011-09-01T00:00:00.000000000",
          "2011-10-01T00:00:00.000000000",
          "2011-11-01T00:00:00.000000000",
          "2011-12-01T00:00:00.000000000",
          "2012-01-01T00:00:00.000000000",
          "2012-02-01T00:00:00.000000000",
          "2012-03-01T00:00:00.000000000",
          "2012-04-01T00:00:00.000000000",
          "2012-05-01T00:00:00.000000000",
          "2012-06-01T00:00:00.000000000",
          "2012-07-01T00:00:00.000000000",
          "2012-08-01T00:00:00.000000000",
          "2012-09-01T00:00:00.000000000",
          "2012-10-01T00:00:00.000000000",
          "2012-11-01T00:00:00.000000000",
          "2012-12-01T00:00:00.000000000",
          "2013-01-01T00:00:00.000000000",
          "2013-02-01T00:00:00.000000000",
          "2013-03-01T00:00:00.000000000",
          "2013-04-01T00:00:00.000000000",
          "2013-05-01T00:00:00.000000000",
          "2013-06-01T00:00:00.000000000",
          "2013-07-01T00:00:00.000000000",
          "2013-08-01T00:00:00.000000000",
          "2013-09-01T00:00:00.000000000",
          "2013-10-01T00:00:00.000000000",
          "2013-11-01T00:00:00.000000000",
          "2013-12-01T00:00:00.000000000",
          "2014-01-01T00:00:00.000000000",
          "2014-02-01T00:00:00.000000000",
          "2014-03-01T00:00:00.000000000",
          "2014-04-01T00:00:00.000000000",
          "2014-05-01T00:00:00.000000000",
          "2014-06-01T00:00:00.000000000",
          "2014-07-01T00:00:00.000000000",
          "2014-08-01T00:00:00.000000000",
          "2014-09-01T00:00:00.000000000",
          "2014-10-01T00:00:00.000000000",
          "2014-11-01T00:00:00.000000000",
          "2014-12-01T00:00:00.000000000",
          "2015-01-01T00:00:00.000000000",
          "2015-02-01T00:00:00.000000000",
          "2015-03-01T00:00:00.000000000",
          "2015-04-01T00:00:00.000000000",
          "2015-05-01T00:00:00.000000000",
          "2015-06-01T00:00:00.000000000",
          "2015-07-01T00:00:00.000000000",
          "2015-08-01T00:00:00.000000000",
          "2015-09-01T00:00:00.000000000",
          "2015-10-01T00:00:00.000000000",
          "2015-11-01T00:00:00.000000000",
          "2015-12-01T00:00:00.000000000",
          "2016-01-01T00:00:00.000000000",
          "2016-02-01T00:00:00.000000000",
          "2016-03-01T00:00:00.000000000",
          "2016-04-01T00:00:00.000000000",
          "2016-05-01T00:00:00.000000000",
          "2016-06-01T00:00:00.000000000",
          "2016-07-01T00:00:00.000000000",
          "2016-08-01T00:00:00.000000000",
          "2016-09-01T00:00:00.000000000",
          "2016-10-01T00:00:00.000000000",
          "2016-11-01T00:00:00.000000000",
          "2016-12-01T00:00:00.000000000",
          "2017-01-01T00:00:00.000000000",
          "2017-02-01T00:00:00.000000000",
          "2017-03-01T00:00:00.000000000",
          "2017-04-01T00:00:00.000000000",
          "2017-05-01T00:00:00.000000000",
          "2017-06-01T00:00:00.000000000",
          "2017-07-01T00:00:00.000000000",
          "2017-08-01T00:00:00.000000000",
          "2017-09-01T00:00:00.000000000",
          "2017-10-01T00:00:00.000000000",
          "2017-11-01T00:00:00.000000000",
          "2017-12-01T00:00:00.000000000",
          "2018-01-01T00:00:00.000000000",
          "2018-02-01T00:00:00.000000000",
          "2018-03-01T00:00:00.000000000",
          "2018-04-01T00:00:00.000000000",
          "2018-05-01T00:00:00.000000000",
          "2018-06-01T00:00:00.000000000",
          "2018-07-01T00:00:00.000000000",
          "2018-08-01T00:00:00.000000000",
          "2018-09-01T00:00:00.000000000",
          "2018-10-01T00:00:00.000000000",
          "2018-11-01T00:00:00.000000000",
          "2018-12-01T00:00:00.000000000",
          "2019-01-01T00:00:00.000000000",
          "2019-02-01T00:00:00.000000000",
          "2019-03-01T00:00:00.000000000",
          "2019-04-01T00:00:00.000000000",
          "2019-05-01T00:00:00.000000000",
          "2019-06-01T00:00:00.000000000",
          "2019-07-01T00:00:00.000000000",
          "2019-08-01T00:00:00.000000000",
          "2019-09-01T00:00:00.000000000",
          "2019-10-01T00:00:00.000000000",
          "2019-11-01T00:00:00.000000000",
          "2019-12-01T00:00:00.000000000",
          "2020-01-01T00:00:00.000000000",
          "2020-02-01T00:00:00.000000000",
          "2020-03-01T00:00:00.000000000",
          "2020-04-01T00:00:00.000000000",
          "2020-05-01T00:00:00.000000000",
          "2020-06-01T00:00:00.000000000",
          "2020-07-01T00:00:00.000000000",
          "2020-08-01T00:00:00.000000000",
          "2020-09-01T00:00:00.000000000",
          "2020-10-01T00:00:00.000000000",
          "2020-11-01T00:00:00.000000000",
          "2020-12-01T00:00:00.000000000",
          "2021-01-01T00:00:00.000000000",
          "2021-02-01T00:00:00.000000000",
          "2021-03-01T00:00:00.000000000",
          "2021-04-01T00:00:00.000000000",
          "2021-05-01T00:00:00.000000000",
          "2021-06-01T00:00:00.000000000",
          "2021-07-01T00:00:00.000000000",
          "2021-08-01T00:00:00.000000000",
          "2021-09-01T00:00:00.000000000",
          "2021-10-01T00:00:00.000000000",
          "2021-11-01T00:00:00.000000000",
          "2021-12-01T00:00:00.000000000",
          "2022-01-01T00:00:00.000000000",
          "2022-02-01T00:00:00.000000000",
          "2022-03-01T00:00:00.000000000",
          "2022-04-01T00:00:00.000000000",
          "2022-05-01T00:00:00.000000000",
          "2022-06-01T00:00:00.000000000",
          "2022-07-01T00:00:00.000000000",
          "2022-08-01T00:00:00.000000000",
          "2022-09-01T00:00:00.000000000",
          "2022-10-01T00:00:00.000000000",
          "2022-11-01T00:00:00.000000000",
          "2022-12-01T00:00:00.000000000",
          "2023-01-01T00:00:00.000000000",
          "2023-02-01T00:00:00.000000000",
          "2023-03-01T00:00:00.000000000",
          "2023-04-01T00:00:00.000000000",
          "2023-05-01T00:00:00.000000000",
          "2023-06-01T00:00:00.000000000",
          "2023-07-01T00:00:00.000000000",
          "2023-08-01T00:00:00.000000000",
          "2023-09-01T00:00:00.000000000",
          "2023-10-01T00:00:00.000000000",
          "2023-11-01T00:00:00.000000000",
          "2023-12-01T00:00:00.000000000",
          "2024-01-01T00:00:00.000000000"
         ],
         "xaxis": "x",
         "y": {
          "bdata": "AAAAAAAA8D8AAAAAAAAAAAAAAAAAAAAAAAAAAAAAAAAAAAAAAAAAAAAAAAAAAAAAAAAAAAAAAAAAAAAAAAAAAAAAAAAAAAAAAAAAAAAAAAAAAAAAAAAAAAAAAAAAAAAAAAAAAAAAAAAAAAAAAAAAAAAAAAAAAAAAAAAAAAAAAAAAAAAAAAAAAAAAAAAAAAAAAAAAAAAAAAAAAAAAAAAAAAAAAAAAAAAAAAAAAAAAAAAAAAAAAAAAAAAAAAAAAAAAAAAAAAAAAAAAAAAAAAAAAAAAAAAAAAAAAAAAAAAAAAAAAAAAAAAAAAAAAAAAAAAAAAAAAAAAAAAAAAAAAAAAAAAAAAAAAAAAAAAAAAAAAAAAAAAAAAAAAAAAAAAAAAAAAAAAAAAAAAAAAAAAAAAAAAAAAAAAAAAAAAAAAAAAAAAAAAAAAAAAAAAAAAAAAAAAAAAAAAAAAAAAAAAAAAAAAAAAAAAAAAAAAAAAAAAAAAAAAAAAAAAAAAAAAAAAAAAAAAAAAAAAAAAAAAAAAAAAAAAAAAAAAAAAAAAAAAAAAAAAAAAAAADwPwAAAAAAAAAAAAAAAAAAAAAAAAAAAAAAAAAAAAAAAAAAAAAAAAAAAAAAAAAAAAAAAAAAAAAAAAAAAAAAAAAAAAAAAAAAAAAAAAAAAAAAAPA/AAAAAAAACEAAAAAAAAAAAAAAAAAAAAAAAAAAAAAAAAAAAAAAAAAAAAAAAAAAAAAAAAAAAAAAAAAAAAAAAAAAAAAAAAAAABhAAAAAAAAAAAAAAAAAAAAAAAAAAAAAAAAAAAAAAAAAJkAAAAAAAAAAAAAAAAAAAABAAAAAAAAAAAAAAAAAAAAAAAAAAAAAAAAAAAAAAAAA8D8AAAAAAAAAAAAAAAAAAAAAAAAAAAAAAAAAAAAAAAAAAAAAAAAAAAAAAAAAAAAAAAAAAAAAAAAAAAAAAAAAAAAAAAAAAAAAAAAAAAAAAAAAAAAAAAAAAAAAAAAAAAAAAAAAAAAAAAAAAAAAAAAAAAAAAAAAAAAAAAAAAAAAAAAAAAAAAAAAAAAAAAAAAAAAAAAAAAAAAAAAAAAAAAAAAAAAAAAAAAAAAAAAAAAAAAAAAAAAAAAAAAAAAAAAAAAA8D8AAAAAAAAAAAAAAAAAAAAAAAAAAAAAAAAAAAAAAAAAAAAAAAAAAAAAAAAAAAAAAAAAAAAAAADwPwAAAAAAAAAAAAAAAAAAAAAAAAAAAAAAAAAAAAAAAAhAAAAAAAAAFEAAAAAAAAAAQAAAAAAAAABAAAAAAAAAGEAAAAAAAAAUQAAAAAAAACxAAAAAAAAAGEAAAAAAAADwPwAAAAAAABRAAAAAAAAAAAAAAAAAAAAYQAAAAAAAABBAAAAAAAAAHEAAAAAAAADwPwAAAAAAAABAAAAAAAAAHEAAAAAAAAAAQAAAAAAAAPA/AAAAAAAAAEAAAAAAAAAQQAAAAAAAAABAAAAAAAAAIkAAAAAAAAAiQAAAAAAAABRAAAAAAAAAGEAAAAAAAADwPwAAAAAAAAAAAAAAAAAAMUAAAAAAAAAgQAAAAAAAAAhAAAAAAAAAJkAAAAAAAAAIQAAAAAAAAERAAAAAAADAU0AAAAAAAAAAQAAAAAAAAEJAAAAAAAAACEAAAAAAAAAkQAAAAAAAABRAAAAAAAAAMEAAAAAAAAA9QAAAAAAAgFVAAAAAAAAAJkAAAAAAAAAiQAAAAAAAwFVAAAAAAACAWUAAAAAAAAAwQAAAAAAAADpAAAAAAAAAIEAAAAAAAAAQQAAAAAAAABhAAAAAAAAAIEAAAAAAAAAgQAAAAAAAABRAAAAAAAAAMEAAAAAAAAAIQAAAAAAAAABAAAAAAAAAHEAAAAAAAAAYQAAAAAAAACRAAAAAAAAANkAAAAAAAAAcQAAAAAAAADJAAAAAAAAAQ0AAAAAAAAAuQAAAAAAAADlAAAAAAAAAEEAAAAAAAAAsQAAAAAAAADRAAAAAAAAAGEAAAAAAAAAcQAAAAAAAACBAAAAAAAAAAEAAAAAAAAAsQAAAAAAAAD9AAAAAAAAALEAAAAAAAAAUQAAAAAAAABhAAAAAAAAACEAAAAAAAAAYQAAAAAAAABRAAAAAAAAAEEAAAAAAAAA4QAAAAAAAABhAAAAAAAAAJEAAAAAAAAAQQAAAAAAAABRAAAAAAAAAEEAAAAAAAAAQQAAAAAAAAAhAAAAAAAAALEAAAAAAAAAAAAAAAAAAADBAAAAAAAAAM0AAAAAAAAAAAAAAAAAAAEBAAAAAAAAAGEAAAAAAAAAUQAAAAAAAAAhAAAAAAAAAMEAAAAAAAAAIQAAAAAAAAPA/AAAAAAAAAAAAAAAAAAAAAAAAAAAAAAAAAAAAAAAAAAAAAAAAAAAAAAAAAAAAAAAAAAAAAAAAAAAAAAAAAAAAAAAAAAAAAPA/",
          "dtype": "f8"
         },
         "yaxis": "y"
        }
       ],
       "layout": {
        "legend": {
         "tracegroupgap": 0
        },
        "margin": {
         "b": 0,
         "l": 0,
         "r": 0,
         "t": 0
        },
        "paper_bgcolor": "rgba(0,0,0,0)",
        "plot_bgcolor": "rgba(0,0,0,0)",
        "template": {
         "data": {
          "bar": [
           {
            "error_x": {
             "color": "#2a3f5f"
            },
            "error_y": {
             "color": "#2a3f5f"
            },
            "marker": {
             "line": {
              "color": "#E5ECF6",
              "width": 0.5
             },
             "pattern": {
              "fillmode": "overlay",
              "size": 10,
              "solidity": 0.2
             }
            },
            "type": "bar"
           }
          ],
          "barpolar": [
           {
            "marker": {
             "line": {
              "color": "#E5ECF6",
              "width": 0.5
             },
             "pattern": {
              "fillmode": "overlay",
              "size": 10,
              "solidity": 0.2
             }
            },
            "type": "barpolar"
           }
          ],
          "carpet": [
           {
            "aaxis": {
             "endlinecolor": "#2a3f5f",
             "gridcolor": "white",
             "linecolor": "white",
             "minorgridcolor": "white",
             "startlinecolor": "#2a3f5f"
            },
            "baxis": {
             "endlinecolor": "#2a3f5f",
             "gridcolor": "white",
             "linecolor": "white",
             "minorgridcolor": "white",
             "startlinecolor": "#2a3f5f"
            },
            "type": "carpet"
           }
          ],
          "choropleth": [
           {
            "colorbar": {
             "outlinewidth": 0,
             "ticks": ""
            },
            "type": "choropleth"
           }
          ],
          "contour": [
           {
            "colorbar": {
             "outlinewidth": 0,
             "ticks": ""
            },
            "colorscale": [
             [
              0,
              "#0d0887"
             ],
             [
              0.1111111111111111,
              "#46039f"
             ],
             [
              0.2222222222222222,
              "#7201a8"
             ],
             [
              0.3333333333333333,
              "#9c179e"
             ],
             [
              0.4444444444444444,
              "#bd3786"
             ],
             [
              0.5555555555555556,
              "#d8576b"
             ],
             [
              0.6666666666666666,
              "#ed7953"
             ],
             [
              0.7777777777777778,
              "#fb9f3a"
             ],
             [
              0.8888888888888888,
              "#fdca26"
             ],
             [
              1,
              "#f0f921"
             ]
            ],
            "type": "contour"
           }
          ],
          "contourcarpet": [
           {
            "colorbar": {
             "outlinewidth": 0,
             "ticks": ""
            },
            "type": "contourcarpet"
           }
          ],
          "heatmap": [
           {
            "colorbar": {
             "outlinewidth": 0,
             "ticks": ""
            },
            "colorscale": [
             [
              0,
              "#0d0887"
             ],
             [
              0.1111111111111111,
              "#46039f"
             ],
             [
              0.2222222222222222,
              "#7201a8"
             ],
             [
              0.3333333333333333,
              "#9c179e"
             ],
             [
              0.4444444444444444,
              "#bd3786"
             ],
             [
              0.5555555555555556,
              "#d8576b"
             ],
             [
              0.6666666666666666,
              "#ed7953"
             ],
             [
              0.7777777777777778,
              "#fb9f3a"
             ],
             [
              0.8888888888888888,
              "#fdca26"
             ],
             [
              1,
              "#f0f921"
             ]
            ],
            "type": "heatmap"
           }
          ],
          "histogram": [
           {
            "marker": {
             "pattern": {
              "fillmode": "overlay",
              "size": 10,
              "solidity": 0.2
             }
            },
            "type": "histogram"
           }
          ],
          "histogram2d": [
           {
            "colorbar": {
             "outlinewidth": 0,
             "ticks": ""
            },
            "colorscale": [
             [
              0,
              "#0d0887"
             ],
             [
              0.1111111111111111,
              "#46039f"
             ],
             [
              0.2222222222222222,
              "#7201a8"
             ],
             [
              0.3333333333333333,
              "#9c179e"
             ],
             [
              0.4444444444444444,
              "#bd3786"
             ],
             [
              0.5555555555555556,
              "#d8576b"
             ],
             [
              0.6666666666666666,
              "#ed7953"
             ],
             [
              0.7777777777777778,
              "#fb9f3a"
             ],
             [
              0.8888888888888888,
              "#fdca26"
             ],
             [
              1,
              "#f0f921"
             ]
            ],
            "type": "histogram2d"
           }
          ],
          "histogram2dcontour": [
           {
            "colorbar": {
             "outlinewidth": 0,
             "ticks": ""
            },
            "colorscale": [
             [
              0,
              "#0d0887"
             ],
             [
              0.1111111111111111,
              "#46039f"
             ],
             [
              0.2222222222222222,
              "#7201a8"
             ],
             [
              0.3333333333333333,
              "#9c179e"
             ],
             [
              0.4444444444444444,
              "#bd3786"
             ],
             [
              0.5555555555555556,
              "#d8576b"
             ],
             [
              0.6666666666666666,
              "#ed7953"
             ],
             [
              0.7777777777777778,
              "#fb9f3a"
             ],
             [
              0.8888888888888888,
              "#fdca26"
             ],
             [
              1,
              "#f0f921"
             ]
            ],
            "type": "histogram2dcontour"
           }
          ],
          "mesh3d": [
           {
            "colorbar": {
             "outlinewidth": 0,
             "ticks": ""
            },
            "type": "mesh3d"
           }
          ],
          "parcoords": [
           {
            "line": {
             "colorbar": {
              "outlinewidth": 0,
              "ticks": ""
             }
            },
            "type": "parcoords"
           }
          ],
          "pie": [
           {
            "automargin": true,
            "type": "pie"
           }
          ],
          "scatter": [
           {
            "fillpattern": {
             "fillmode": "overlay",
             "size": 10,
             "solidity": 0.2
            },
            "type": "scatter"
           }
          ],
          "scatter3d": [
           {
            "line": {
             "colorbar": {
              "outlinewidth": 0,
              "ticks": ""
             }
            },
            "marker": {
             "colorbar": {
              "outlinewidth": 0,
              "ticks": ""
             }
            },
            "type": "scatter3d"
           }
          ],
          "scattercarpet": [
           {
            "marker": {
             "colorbar": {
              "outlinewidth": 0,
              "ticks": ""
             }
            },
            "type": "scattercarpet"
           }
          ],
          "scattergeo": [
           {
            "marker": {
             "colorbar": {
              "outlinewidth": 0,
              "ticks": ""
             }
            },
            "type": "scattergeo"
           }
          ],
          "scattergl": [
           {
            "marker": {
             "colorbar": {
              "outlinewidth": 0,
              "ticks": ""
             }
            },
            "type": "scattergl"
           }
          ],
          "scattermap": [
           {
            "marker": {
             "colorbar": {
              "outlinewidth": 0,
              "ticks": ""
             }
            },
            "type": "scattermap"
           }
          ],
          "scattermapbox": [
           {
            "marker": {
             "colorbar": {
              "outlinewidth": 0,
              "ticks": ""
             }
            },
            "type": "scattermapbox"
           }
          ],
          "scatterpolar": [
           {
            "marker": {
             "colorbar": {
              "outlinewidth": 0,
              "ticks": ""
             }
            },
            "type": "scatterpolar"
           }
          ],
          "scatterpolargl": [
           {
            "marker": {
             "colorbar": {
              "outlinewidth": 0,
              "ticks": ""
             }
            },
            "type": "scatterpolargl"
           }
          ],
          "scatterternary": [
           {
            "marker": {
             "colorbar": {
              "outlinewidth": 0,
              "ticks": ""
             }
            },
            "type": "scatterternary"
           }
          ],
          "surface": [
           {
            "colorbar": {
             "outlinewidth": 0,
             "ticks": ""
            },
            "colorscale": [
             [
              0,
              "#0d0887"
             ],
             [
              0.1111111111111111,
              "#46039f"
             ],
             [
              0.2222222222222222,
              "#7201a8"
             ],
             [
              0.3333333333333333,
              "#9c179e"
             ],
             [
              0.4444444444444444,
              "#bd3786"
             ],
             [
              0.5555555555555556,
              "#d8576b"
             ],
             [
              0.6666666666666666,
              "#ed7953"
             ],
             [
              0.7777777777777778,
              "#fb9f3a"
             ],
             [
              0.8888888888888888,
              "#fdca26"
             ],
             [
              1,
              "#f0f921"
             ]
            ],
            "type": "surface"
           }
          ],
          "table": [
           {
            "cells": {
             "fill": {
              "color": "#EBF0F8"
             },
             "line": {
              "color": "white"
             }
            },
            "header": {
             "fill": {
              "color": "#C8D4E3"
             },
             "line": {
              "color": "white"
             }
            },
            "type": "table"
           }
          ]
         },
         "layout": {
          "annotationdefaults": {
           "arrowcolor": "#2a3f5f",
           "arrowhead": 0,
           "arrowwidth": 1
          },
          "autotypenumbers": "strict",
          "coloraxis": {
           "colorbar": {
            "outlinewidth": 0,
            "ticks": ""
           }
          },
          "colorscale": {
           "diverging": [
            [
             0,
             "#8e0152"
            ],
            [
             0.1,
             "#c51b7d"
            ],
            [
             0.2,
             "#de77ae"
            ],
            [
             0.3,
             "#f1b6da"
            ],
            [
             0.4,
             "#fde0ef"
            ],
            [
             0.5,
             "#f7f7f7"
            ],
            [
             0.6,
             "#e6f5d0"
            ],
            [
             0.7,
             "#b8e186"
            ],
            [
             0.8,
             "#7fbc41"
            ],
            [
             0.9,
             "#4d9221"
            ],
            [
             1,
             "#276419"
            ]
           ],
           "sequential": [
            [
             0,
             "#0d0887"
            ],
            [
             0.1111111111111111,
             "#46039f"
            ],
            [
             0.2222222222222222,
             "#7201a8"
            ],
            [
             0.3333333333333333,
             "#9c179e"
            ],
            [
             0.4444444444444444,
             "#bd3786"
            ],
            [
             0.5555555555555556,
             "#d8576b"
            ],
            [
             0.6666666666666666,
             "#ed7953"
            ],
            [
             0.7777777777777778,
             "#fb9f3a"
            ],
            [
             0.8888888888888888,
             "#fdca26"
            ],
            [
             1,
             "#f0f921"
            ]
           ],
           "sequentialminus": [
            [
             0,
             "#0d0887"
            ],
            [
             0.1111111111111111,
             "#46039f"
            ],
            [
             0.2222222222222222,
             "#7201a8"
            ],
            [
             0.3333333333333333,
             "#9c179e"
            ],
            [
             0.4444444444444444,
             "#bd3786"
            ],
            [
             0.5555555555555556,
             "#d8576b"
            ],
            [
             0.6666666666666666,
             "#ed7953"
            ],
            [
             0.7777777777777778,
             "#fb9f3a"
            ],
            [
             0.8888888888888888,
             "#fdca26"
            ],
            [
             1,
             "#f0f921"
            ]
           ]
          },
          "colorway": [
           "#636efa",
           "#EF553B",
           "#00cc96",
           "#ab63fa",
           "#FFA15A",
           "#19d3f3",
           "#FF6692",
           "#B6E880",
           "#FF97FF",
           "#FECB52"
          ],
          "font": {
           "color": "#2a3f5f"
          },
          "geo": {
           "bgcolor": "white",
           "lakecolor": "white",
           "landcolor": "#E5ECF6",
           "showlakes": true,
           "showland": true,
           "subunitcolor": "white"
          },
          "hoverlabel": {
           "align": "left"
          },
          "hovermode": "closest",
          "mapbox": {
           "style": "light"
          },
          "paper_bgcolor": "white",
          "plot_bgcolor": "#E5ECF6",
          "polar": {
           "angularaxis": {
            "gridcolor": "white",
            "linecolor": "white",
            "ticks": ""
           },
           "bgcolor": "#E5ECF6",
           "radialaxis": {
            "gridcolor": "white",
            "linecolor": "white",
            "ticks": ""
           }
          },
          "scene": {
           "xaxis": {
            "backgroundcolor": "#E5ECF6",
            "gridcolor": "white",
            "gridwidth": 2,
            "linecolor": "white",
            "showbackground": true,
            "ticks": "",
            "zerolinecolor": "white"
           },
           "yaxis": {
            "backgroundcolor": "#E5ECF6",
            "gridcolor": "white",
            "gridwidth": 2,
            "linecolor": "white",
            "showbackground": true,
            "ticks": "",
            "zerolinecolor": "white"
           },
           "zaxis": {
            "backgroundcolor": "#E5ECF6",
            "gridcolor": "white",
            "gridwidth": 2,
            "linecolor": "white",
            "showbackground": true,
            "ticks": "",
            "zerolinecolor": "white"
           }
          },
          "shapedefaults": {
           "line": {
            "color": "#2a3f5f"
           }
          },
          "ternary": {
           "aaxis": {
            "gridcolor": "white",
            "linecolor": "white",
            "ticks": ""
           },
           "baxis": {
            "gridcolor": "white",
            "linecolor": "white",
            "ticks": ""
           },
           "bgcolor": "#E5ECF6",
           "caxis": {
            "gridcolor": "white",
            "linecolor": "white",
            "ticks": ""
           }
          },
          "title": {
           "x": 0.05
          },
          "xaxis": {
           "automargin": true,
           "gridcolor": "white",
           "linecolor": "white",
           "ticks": "",
           "title": {
            "standoff": 15
           },
           "zerolinecolor": "white",
           "zerolinewidth": 2
          },
          "yaxis": {
           "automargin": true,
           "gridcolor": "white",
           "linecolor": "white",
           "ticks": "",
           "title": {
            "standoff": 15
           },
           "zerolinecolor": "white",
           "zerolinewidth": 2
          }
         }
        },
        "xaxis": {
         "anchor": "y",
         "domain": [
          0,
          1
         ],
         "linecolor": "black",
         "linewidth": 2,
         "showgrid": false,
         "tickformat": "%Y-%m",
         "title": {
          "text": "Data"
         },
         "zeroline": true,
         "zerolinecolor": "black"
        },
        "yaxis": {
         "anchor": "x",
         "domain": [
          0,
          1
         ],
         "gridcolor": "lightgray",
         "linecolor": "black",
         "linewidth": 2,
         "range": [
          0,
          112.2
         ],
         "showgrid": true,
         "title": {
          "text": "Quantidade de Notícias"
         },
         "zeroline": true,
         "zerolinecolor": "black"
        }
       }
      }
     },
     "metadata": {},
     "output_type": "display_data"
    }
   ],
   "source": [
    "from pyspark.sql import functions as F\n",
    "from pyspark.sql.window import Window\n",
    "from pyspark.sql.functions import collect_list\n",
    "import pandas as pd\n",
    "import plotly.express as px\n",
    "\n",
    "traducao_meses = {\n",
    "    \"January\": \"Janeiro\", \"February\": \"Fevereiro\", \"March\": \"Março\",\n",
    "    \"April\": \"Abril\", \"May\": \"Maio\", \"June\": \"Junho\",\n",
    "    \"July\": \"Julho\", \"August\": \"Agosto\", \"September\": \"Setembro\",\n",
    "    \"October\": \"Outubro\", \"November\": \"Novembro\", \"December\": \"Dezembro\"\n",
    "}\n",
    "\n",
    "news_by_month = (\n",
    "    df_with_query\n",
    "    .groupBy('timestamp')\n",
    "    .agg(F.count('archive').alias('count_of_news'))\n",
    "    .toPandas()\n",
    ")\n",
    "\n",
    "keywords_by_month = (\n",
    "    df_with_query\n",
    "    .select('*', F.explode('keywords'))\n",
    "    .groupBy(\"timestamp\", \"key\")\n",
    "    .agg(F.sum(\"value\").alias(\"key_mentions\"))\n",
    "    .filter(F.col(\"key\") != query)\n",
    "    .withColumn(\"rank\", F.row_number().over(Window.partitionBy(\"timestamp\").orderBy(F.desc(\"key_mentions\"))))\n",
    "    .filter(F.col(\"rank\") <= 5)\n",
    "    .groupBy(\"timestamp\")\n",
    "    .agg(collect_list(\"key\").alias(\"top5_keywords\"))\n",
    "    .toPandas()\n",
    ")\n",
    "\n",
    "news_history = news_by_month.merge(keywords_by_month, on=\"timestamp\", how=\"inner\")\n",
    "news_history[\"timestamp\"] = pd.to_datetime(news_history[\"timestamp\"].astype(str), format='%Y%m')\n",
    "\n",
    "min_date = news_history[\"timestamp\"].min()\n",
    "max_date = news_history[\"timestamp\"].max()\n",
    "full_range = pd.date_range(start=min_date, end=max_date, freq='MS')\n",
    "\n",
    "news_history = news_history.set_index(\"timestamp\").reindex(full_range).fillna(0).reset_index()\n",
    "news_history = news_history.rename(columns={\"index\": \"timestamp\"})\n",
    "news_history = news_history.sort_values(by=\"timestamp\")\n",
    "\n",
    "news_history[\"data_formatada\"] = news_history[\"timestamp\"].dt.strftime(\"%B de %Y\").replace(traducao_meses, regex=True)\n",
    "news_history[\"top5_keywords\"] = news_history[\"top5_keywords\"].apply(\n",
    "    lambda words: \"-\" if words == 0 else \"<br>\".join([f\"{i+1}. {word}\" for i, word in enumerate(words)])\n",
    ")\n",
    "\n",
    "# Create Plotly figure\n",
    "fig = px.line(\n",
    "    news_history,\n",
    "    x=\"timestamp\",\n",
    "    y=\"count_of_news\",\n",
    "    line_shape=\"linear\",\n",
    "    custom_data=news_history[[\"data_formatada\", \"top5_keywords\"]],\n",
    ")\n",
    "\n",
    "fig.update_traces(\n",
    "    hovertemplate=\"<b>Data:</b> %{customdata[0]}<br>\"\n",
    "                  \"<b>📊 Notícias:</b> %{y}<br>\"\n",
    "                  \"<b>Top 5 Tópicos:</b><br>%{customdata[1]}\"\n",
    ")\n",
    "\n",
    "fig.update_layout(\n",
    "    xaxis_title=\"Data\",\n",
    "    yaxis_title=\"Quantidade de Notícias\",\n",
    "    paper_bgcolor=\"rgba(0,0,0,0)\",\n",
    "    plot_bgcolor=\"rgba(0,0,0,0)\",\n",
    "    margin=dict(t=0, b=0, l=0, r=0),\n",
    "    xaxis=dict(\n",
    "        showgrid=False,\n",
    "        zeroline=True,\n",
    "        zerolinecolor=\"black\",\n",
    "        linecolor=\"black\",\n",
    "        linewidth=2\n",
    "    ),\n",
    "    yaxis=dict(\n",
    "        range=[0, max(news_history[\"count_of_news\"])*1.1],\n",
    "        showgrid=True,  \n",
    "        gridcolor=\"lightgray\",  \n",
    "        zeroline=True,\n",
    "        zerolinecolor=\"black\",\n",
    "        linecolor=\"black\",\n",
    "        linewidth=2\n",
    "    ),\n",
    ")\n",
    "\n",
    "fig.update_traces(line=dict(color='rgb(101, 110, 242)'),\n",
    "                    hoverlabel=dict(bgcolor='rgb(101, 110, 242)',\n",
    "                                    bordercolor='rgb(101, 110, 242)',\n",
    "                                    font=dict(color='white')))\n",
    "\n",
    "fig.update_xaxes(tickformat=\"%Y-%m\")\n",
    "\n",
    "# Show figure\n",
    "fig.show()"
   ]
  },
  {
   "cell_type": "markdown",
   "metadata": {},
   "source": [
    "### topic wcloud\n",
    "\n",
    "word counts: *key: count*"
   ]
  },
  {
   "cell_type": "code",
   "execution_count": 19,
   "metadata": {},
   "outputs": [
    {
     "data": {
      "image/png": "[encoded data removed]",
      "text/plain": [
       "<Figure size 1920x500 with 1 Axes>"
      ]
     },
     "metadata": {},
     "output_type": "display_data"
    }
   ],
   "source": [
    "from PIL import Image, ImageDraw, ImageFont\n",
    "import numpy as np\n",
    "from wordcloud import WordCloud\n",
    "import matplotlib.pyplot as plt\n",
    "\n",
    "word_counts = dict(\n",
    "    result.map(lambda x: (x[0], x[1][0]))\n",
    "          .collect()\n",
    ")\n",
    "\n",
    "# Constants\n",
    "IMAGE_SIZE = (1920, 500)  # Fixed background size (canvas)\n",
    "TEXT = \"antónio pinto da costa\"\n",
    "FONT_PATH = \"/Users/hugover/Desktop/IM_assetsGH/Roboto-Black.ttf\"\n",
    "MAX_FONT_SIZE = 500  # Max possible font size\n",
    "\n",
    "# Load font\n",
    "font = ImageFont.truetype(FONT_PATH, size=MAX_FONT_SIZE)\n",
    "\n",
    "def get_optimal_font_size(text, font_path, max_size, image_size):\n",
    "    \"\"\"Determine the best font size to fit within the image.\"\"\"\n",
    "    for size in range(max_size, 5, -5):  # Step down in increments\n",
    "        font = ImageFont.truetype(font_path, size=size)\n",
    "        temp_img = Image.new(\"RGBA\", image_size, (0, 0, 0, 0))\n",
    "        draw = ImageDraw.Draw(temp_img)\n",
    "        bbox = draw.textbbox((0, 0), text, font=font)\n",
    "        text_width, text_height = bbox[2] - bbox[0], bbox[3] - bbox[1]\n",
    "\n",
    "        if text_width <= image_size[0] * 0.8 and text_height <= image_size[1] * 1:  \n",
    "            return font, bbox  # Fit within 80% width & 50% height\n",
    "\n",
    "    return font, bbox  # Return the smallest size if no fit\n",
    "\n",
    "# Get optimal font size\n",
    "font, bbox = get_optimal_font_size(TEXT, FONT_PATH, MAX_FONT_SIZE, IMAGE_SIZE)\n",
    "\n",
    "# Calculate centered position\n",
    "text_width, text_height = bbox[2] - bbox[0], bbox[3] - bbox[1]\n",
    "x_offset = (IMAGE_SIZE[0] - text_width) // 2\n",
    "y_offset = (IMAGE_SIZE[1] - text_height) // 2\n",
    "\n",
    "# Create fixed-size image (1920x1080)\n",
    "final_img = Image.new(\"RGBA\", IMAGE_SIZE, (0, 0, 0, 0))\n",
    "draw = ImageDraw.Draw(final_img)\n",
    "\n",
    "# Draw centered text\n",
    "draw.text((x_offset, y_offset), TEXT, fill=(255, 105, 180), font=font)  # Pink text\n",
    "\n",
    "# Generate mask for WordCloud (ensure proper alpha channel handling)\n",
    "mask = np.array(final_img.convert(\"L\"))  # Convert to grayscale to use as a mask\n",
    "\n",
    "# Generate WordCloud\n",
    "wc = WordCloud(\n",
    "    width=IMAGE_SIZE[0], height=IMAGE_SIZE[1],\n",
    "    background_color=None, min_font_size=5, mode=\"RGBA\",\n",
    "    colormap=\"winter\", mask=~mask, contour_color=\"black\"\n",
    ").generate_from_frequencies(word_counts)\n",
    "\n",
    "# Convert WordCloud to image\n",
    "wc_image = wc.to_image()\n",
    "\n",
    "# Merge word cloud and text\n",
    "final_img = Image.alpha_composite(final_img, wc_image)\n",
    "\n",
    "# Show final image\n",
    "plt.figure(figsize=(IMAGE_SIZE[0] / 100, IMAGE_SIZE[1] / 100))  # Adjust figure size\n",
    "plt.imshow(final_img)\n",
    "plt.axis(\"off\")  # Hide axes\n",
    "plt.show()"
   ]
  },
  {
   "cell_type": "markdown",
   "metadata": {},
   "source": [
    "### related info\n",
    "\n",
    "json"
   ]
  },
  {
   "cell_type": "code",
   "execution_count": 20,
   "metadata": {},
   "outputs": [
    {
     "name": "stdout",
     "output_type": "stream",
     "text": [
      "Number of news where both galp and EDP are mentioned: 2643\n"
     ]
    }
   ],
   "source": [
    "search_topic = \"EDP\"\n",
    "filtered = dict(result.filter(lambda x: x[0] == search_topic).collect())[search_topic]\n",
    "\n",
    "print(f\"Number of news where both {query} and {search_topic} are mentioned: {filtered[0]}\")"
   ]
  },
  {
   "cell_type": "markdown",
   "metadata": {},
   "source": [
    "### related sentiment\n",
    "\n",
    "json"
   ]
  },
  {
   "cell_type": "code",
   "execution_count": 21,
   "metadata": {},
   "outputs": [
    {
     "data": {
      "text/plain": [
       "0.3776307443461994"
      ]
     },
     "execution_count": 21,
     "metadata": {},
     "output_type": "execute_result"
    }
   ],
   "source": [
    "filtered[2]"
   ]
  },
  {
   "cell_type": "markdown",
   "metadata": {},
   "source": [
    "### related ts\n",
    "\n",
    "json"
   ]
  },
  {
   "cell_type": "code",
   "execution_count": 22,
   "metadata": {},
   "outputs": [
    {
     "data": {
      "application/vnd.plotly.v1+json": {
       "config": {
        "displayModeBar": false,
        "plotlyServerURL": "https://plot.ly"
       },
       "data": [
        {
         "hovertemplate": "%{y}",
         "line": {
          "color": "rgba(101, 110, 242, 0.3)"
         },
         "mode": "lines",
         "name": "Notícias sobre Galp",
         "type": "scatter",
         "x": [
          "2005-02-01T00:00:00.000000000",
          "2005-03-01T00:00:00.000000000",
          "2005-04-01T00:00:00.000000000",
          "2005-05-01T00:00:00.000000000",
          "2005-06-01T00:00:00.000000000",
          "2005-07-01T00:00:00.000000000",
          "2005-08-01T00:00:00.000000000",
          "2005-09-01T00:00:00.000000000",
          "2005-10-01T00:00:00.000000000",
          "2005-11-01T00:00:00.000000000",
          "2005-12-01T00:00:00.000000000",
          "2006-01-01T00:00:00.000000000",
          "2006-02-01T00:00:00.000000000",
          "2006-03-01T00:00:00.000000000",
          "2006-04-01T00:00:00.000000000",
          "2006-05-01T00:00:00.000000000",
          "2006-06-01T00:00:00.000000000",
          "2006-07-01T00:00:00.000000000",
          "2006-08-01T00:00:00.000000000",
          "2006-09-01T00:00:00.000000000",
          "2006-10-01T00:00:00.000000000",
          "2006-11-01T00:00:00.000000000",
          "2006-12-01T00:00:00.000000000",
          "2007-01-01T00:00:00.000000000",
          "2007-02-01T00:00:00.000000000",
          "2007-03-01T00:00:00.000000000",
          "2007-04-01T00:00:00.000000000",
          "2007-05-01T00:00:00.000000000",
          "2007-06-01T00:00:00.000000000",
          "2007-07-01T00:00:00.000000000",
          "2007-08-01T00:00:00.000000000",
          "2007-09-01T00:00:00.000000000",
          "2007-10-01T00:00:00.000000000",
          "2007-11-01T00:00:00.000000000",
          "2007-12-01T00:00:00.000000000",
          "2008-01-01T00:00:00.000000000",
          "2008-02-01T00:00:00.000000000",
          "2008-03-01T00:00:00.000000000",
          "2008-04-01T00:00:00.000000000",
          "2008-05-01T00:00:00.000000000",
          "2008-06-01T00:00:00.000000000",
          "2008-07-01T00:00:00.000000000",
          "2008-08-01T00:00:00.000000000",
          "2008-09-01T00:00:00.000000000",
          "2008-10-01T00:00:00.000000000",
          "2008-11-01T00:00:00.000000000",
          "2008-12-01T00:00:00.000000000",
          "2009-01-01T00:00:00.000000000",
          "2009-02-01T00:00:00.000000000",
          "2009-03-01T00:00:00.000000000",
          "2009-04-01T00:00:00.000000000",
          "2009-05-01T00:00:00.000000000",
          "2009-06-01T00:00:00.000000000",
          "2009-07-01T00:00:00.000000000",
          "2009-08-01T00:00:00.000000000",
          "2009-09-01T00:00:00.000000000",
          "2009-10-01T00:00:00.000000000",
          "2009-11-01T00:00:00.000000000",
          "2009-12-01T00:00:00.000000000",
          "2010-01-01T00:00:00.000000000",
          "2010-02-01T00:00:00.000000000",
          "2010-03-01T00:00:00.000000000",
          "2010-04-01T00:00:00.000000000",
          "2010-05-01T00:00:00.000000000",
          "2010-06-01T00:00:00.000000000",
          "2010-07-01T00:00:00.000000000",
          "2010-08-01T00:00:00.000000000",
          "2010-09-01T00:00:00.000000000",
          "2010-10-01T00:00:00.000000000",
          "2010-11-01T00:00:00.000000000",
          "2010-12-01T00:00:00.000000000",
          "2011-01-01T00:00:00.000000000",
          "2011-02-01T00:00:00.000000000",
          "2011-03-01T00:00:00.000000000",
          "2011-04-01T00:00:00.000000000",
          "2011-05-01T00:00:00.000000000",
          "2011-06-01T00:00:00.000000000",
          "2011-07-01T00:00:00.000000000",
          "2011-08-01T00:00:00.000000000",
          "2011-09-01T00:00:00.000000000",
          "2011-10-01T00:00:00.000000000",
          "2011-11-01T00:00:00.000000000",
          "2011-12-01T00:00:00.000000000",
          "2012-01-01T00:00:00.000000000",
          "2012-02-01T00:00:00.000000000",
          "2012-03-01T00:00:00.000000000",
          "2012-04-01T00:00:00.000000000",
          "2012-05-01T00:00:00.000000000",
          "2012-06-01T00:00:00.000000000",
          "2012-07-01T00:00:00.000000000",
          "2012-08-01T00:00:00.000000000",
          "2012-09-01T00:00:00.000000000",
          "2012-10-01T00:00:00.000000000",
          "2012-11-01T00:00:00.000000000",
          "2012-12-01T00:00:00.000000000",
          "2013-01-01T00:00:00.000000000",
          "2013-02-01T00:00:00.000000000",
          "2013-03-01T00:00:00.000000000",
          "2013-04-01T00:00:00.000000000",
          "2013-05-01T00:00:00.000000000",
          "2013-06-01T00:00:00.000000000",
          "2013-07-01T00:00:00.000000000",
          "2013-08-01T00:00:00.000000000",
          "2013-09-01T00:00:00.000000000",
          "2013-10-01T00:00:00.000000000",
          "2013-11-01T00:00:00.000000000",
          "2013-12-01T00:00:00.000000000",
          "2014-01-01T00:00:00.000000000",
          "2014-02-01T00:00:00.000000000",
          "2014-03-01T00:00:00.000000000",
          "2014-04-01T00:00:00.000000000",
          "2014-05-01T00:00:00.000000000",
          "2014-06-01T00:00:00.000000000",
          "2014-07-01T00:00:00.000000000",
          "2014-08-01T00:00:00.000000000",
          "2014-09-01T00:00:00.000000000",
          "2014-10-01T00:00:00.000000000",
          "2014-11-01T00:00:00.000000000",
          "2014-12-01T00:00:00.000000000",
          "2015-01-01T00:00:00.000000000",
          "2015-02-01T00:00:00.000000000",
          "2015-03-01T00:00:00.000000000",
          "2015-04-01T00:00:00.000000000",
          "2015-05-01T00:00:00.000000000",
          "2015-06-01T00:00:00.000000000",
          "2015-07-01T00:00:00.000000000",
          "2015-08-01T00:00:00.000000000",
          "2015-09-01T00:00:00.000000000",
          "2015-10-01T00:00:00.000000000",
          "2015-11-01T00:00:00.000000000",
          "2015-12-01T00:00:00.000000000",
          "2016-01-01T00:00:00.000000000",
          "2016-02-01T00:00:00.000000000",
          "2016-03-01T00:00:00.000000000",
          "2016-04-01T00:00:00.000000000",
          "2016-05-01T00:00:00.000000000",
          "2016-06-01T00:00:00.000000000",
          "2016-07-01T00:00:00.000000000",
          "2016-08-01T00:00:00.000000000",
          "2016-09-01T00:00:00.000000000",
          "2016-10-01T00:00:00.000000000",
          "2016-11-01T00:00:00.000000000",
          "2016-12-01T00:00:00.000000000",
          "2017-01-01T00:00:00.000000000",
          "2017-02-01T00:00:00.000000000",
          "2017-03-01T00:00:00.000000000",
          "2017-04-01T00:00:00.000000000",
          "2017-05-01T00:00:00.000000000",
          "2017-06-01T00:00:00.000000000",
          "2017-07-01T00:00:00.000000000",
          "2017-08-01T00:00:00.000000000",
          "2017-09-01T00:00:00.000000000",
          "2017-10-01T00:00:00.000000000",
          "2017-11-01T00:00:00.000000000",
          "2017-12-01T00:00:00.000000000",
          "2018-01-01T00:00:00.000000000",
          "2018-02-01T00:00:00.000000000",
          "2018-03-01T00:00:00.000000000",
          "2018-04-01T00:00:00.000000000",
          "2018-05-01T00:00:00.000000000",
          "2018-06-01T00:00:00.000000000",
          "2018-07-01T00:00:00.000000000",
          "2018-08-01T00:00:00.000000000",
          "2018-09-01T00:00:00.000000000",
          "2018-10-01T00:00:00.000000000",
          "2018-11-01T00:00:00.000000000",
          "2018-12-01T00:00:00.000000000",
          "2019-01-01T00:00:00.000000000",
          "2019-02-01T00:00:00.000000000",
          "2019-03-01T00:00:00.000000000",
          "2019-04-01T00:00:00.000000000",
          "2019-05-01T00:00:00.000000000",
          "2019-06-01T00:00:00.000000000",
          "2019-07-01T00:00:00.000000000",
          "2019-08-01T00:00:00.000000000",
          "2019-09-01T00:00:00.000000000",
          "2019-10-01T00:00:00.000000000",
          "2019-11-01T00:00:00.000000000",
          "2019-12-01T00:00:00.000000000",
          "2020-01-01T00:00:00.000000000",
          "2020-02-01T00:00:00.000000000",
          "2020-03-01T00:00:00.000000000",
          "2020-04-01T00:00:00.000000000",
          "2020-05-01T00:00:00.000000000",
          "2020-06-01T00:00:00.000000000",
          "2020-07-01T00:00:00.000000000",
          "2020-08-01T00:00:00.000000000",
          "2020-09-01T00:00:00.000000000",
          "2020-10-01T00:00:00.000000000",
          "2020-11-01T00:00:00.000000000",
          "2020-12-01T00:00:00.000000000",
          "2021-01-01T00:00:00.000000000",
          "2021-02-01T00:00:00.000000000",
          "2021-03-01T00:00:00.000000000",
          "2021-04-01T00:00:00.000000000",
          "2021-05-01T00:00:00.000000000",
          "2021-06-01T00:00:00.000000000",
          "2021-07-01T00:00:00.000000000",
          "2021-08-01T00:00:00.000000000",
          "2021-09-01T00:00:00.000000000",
          "2021-10-01T00:00:00.000000000",
          "2021-11-01T00:00:00.000000000",
          "2021-12-01T00:00:00.000000000",
          "2022-01-01T00:00:00.000000000",
          "2022-02-01T00:00:00.000000000",
          "2022-03-01T00:00:00.000000000",
          "2022-04-01T00:00:00.000000000",
          "2022-05-01T00:00:00.000000000",
          "2022-06-01T00:00:00.000000000",
          "2022-07-01T00:00:00.000000000",
          "2022-08-01T00:00:00.000000000",
          "2022-09-01T00:00:00.000000000",
          "2022-10-01T00:00:00.000000000",
          "2022-11-01T00:00:00.000000000",
          "2022-12-01T00:00:00.000000000",
          "2023-01-01T00:00:00.000000000",
          "2023-02-01T00:00:00.000000000",
          "2023-03-01T00:00:00.000000000",
          "2023-04-01T00:00:00.000000000",
          "2023-05-01T00:00:00.000000000",
          "2023-06-01T00:00:00.000000000",
          "2023-07-01T00:00:00.000000000",
          "2023-08-01T00:00:00.000000000",
          "2023-09-01T00:00:00.000000000",
          "2023-10-01T00:00:00.000000000",
          "2023-11-01T00:00:00.000000000",
          "2023-12-01T00:00:00.000000000",
          "2024-01-01T00:00:00.000000000"
         ],
         "y": {
          "bdata": "AAAAAAAA8D8AAAAAAAAAAAAAAAAAAAAAAAAAAAAAAAAAAAAAAAAAAAAAAAAAAAAAAAAAAAAAAAAAAAAAAAAAAAAAAAAAAAAAAAAAAAAAAAAAAAAAAAAAAAAAAAAAAAAAAAAAAAAAAAAAAAAAAAAAAAAAAAAAAAAAAAAAAAAAAAAAAAAAAAAAAAAAAAAAAAAAAAAAAAAAAAAAAAAAAAAAAAAAAAAAAAAAAAAAAAAAAAAAAAAAAAAAAAAAAAAAAAAAAAAAAAAAAAAAAAAAAAAAAAAAAAAAAAAAAAAAAAAAAAAAAAAAAAAAAAAAAAAAAAAAAAAAAAAAAAAAAAAAAAAAAAAAAAAAAAAAAAAAAAAAAAAAAAAAAAAAAAAAAAAAAAAAAAAAAAAAAAAAAAAAAAAAAAAAAAAAAAAAAAAAAAAAAAAAAAAAAAAAAAAAAAAAAAAAAAAAAAAAAAAAAAAAAAAAAAAAAAAAAAAAAAAAAAAAAAAAAAAAAAAAAAAAAAAAAAAAAAAAAAAAAAAAAAAAAAAAAAAAAAAAAAAAAAAAAAAAAAAAAAAAAADwPwAAAAAAAAAAAAAAAAAAAAAAAAAAAAAAAAAAAAAAAAAAAAAAAAAAAAAAAAAAAAAAAAAAAAAAAAAAAAAAAAAAAAAAAAAAAAAAAAAAAAAAAPA/AAAAAAAACEAAAAAAAAAAAAAAAAAAAAAAAAAAAAAAAAAAAAAAAAAAAAAAAAAAAAAAAAAAAAAAAAAAAAAAAAAAAAAAAAAAABhAAAAAAAAAAAAAAAAAAAAAAAAAAAAAAAAAAAAAAAAAJkAAAAAAAAAAAAAAAAAAAABAAAAAAAAAAAAAAAAAAAAAAAAAAAAAAAAAAAAAAAAA8D8AAAAAAAAAAAAAAAAAAAAAAAAAAAAAAAAAAAAAAAAAAAAAAAAAAAAAAAAAAAAAAAAAAAAAAAAAAAAAAAAAAAAAAAAAAAAAAAAAAAAAAAAAAAAAAAAAAAAAAAAAAAAAAAAAAAAAAAAAAAAAAAAAAAAAAAAAAAAAAAAAAAAAAAAAAAAAAAAAAAAAAAAAAAAAAAAAAAAAAAAAAAAAAAAAAAAAAAAAAAAAAAAAAAAAAAAAAAAAAAAAAAAAAAAAAAAA8D8AAAAAAAAAAAAAAAAAAAAAAAAAAAAAAAAAAAAAAAAAAAAAAAAAAAAAAAAAAAAAAAAAAAAAAADwPwAAAAAAAAAAAAAAAAAAAAAAAAAAAAAAAAAAAAAAAAhAAAAAAAAAFEAAAAAAAAAAQAAAAAAAAABAAAAAAAAAGEAAAAAAAAAUQAAAAAAAACxAAAAAAAAAGEAAAAAAAADwPwAAAAAAABRAAAAAAAAAAAAAAAAAAAAYQAAAAAAAABBAAAAAAAAAHEAAAAAAAADwPwAAAAAAAABAAAAAAAAAHEAAAAAAAAAAQAAAAAAAAPA/AAAAAAAAAEAAAAAAAAAQQAAAAAAAAABAAAAAAAAAIkAAAAAAAAAiQAAAAAAAABRAAAAAAAAAGEAAAAAAAADwPwAAAAAAAAAAAAAAAAAAMUAAAAAAAAAgQAAAAAAAAAhAAAAAAAAAJkAAAAAAAAAIQAAAAAAAAERAAAAAAADAU0AAAAAAAAAAQAAAAAAAAEJAAAAAAAAACEAAAAAAAAAkQAAAAAAAABRAAAAAAAAAMEAAAAAAAAA9QAAAAAAAgFVAAAAAAAAAJkAAAAAAAAAiQAAAAAAAwFVAAAAAAACAWUAAAAAAAAAwQAAAAAAAADpAAAAAAAAAIEAAAAAAAAAQQAAAAAAAABhAAAAAAAAAIEAAAAAAAAAgQAAAAAAAABRAAAAAAAAAMEAAAAAAAAAIQAAAAAAAAABAAAAAAAAAHEAAAAAAAAAYQAAAAAAAACRAAAAAAAAANkAAAAAAAAAcQAAAAAAAADJAAAAAAAAAQ0AAAAAAAAAuQAAAAAAAADlAAAAAAAAAEEAAAAAAAAAsQAAAAAAAADRAAAAAAAAAGEAAAAAAAAAcQAAAAAAAACBAAAAAAAAAAEAAAAAAAAAsQAAAAAAAAD9AAAAAAAAALEAAAAAAAAAUQAAAAAAAABhAAAAAAAAACEAAAAAAAAAYQAAAAAAAABRAAAAAAAAAEEAAAAAAAAA4QAAAAAAAABhAAAAAAAAAJEAAAAAAAAAQQAAAAAAAABRAAAAAAAAAEEAAAAAAAAAQQAAAAAAAAAhAAAAAAAAALEAAAAAAAAAAAAAAAAAAADBAAAAAAAAAM0AAAAAAAAAAAAAAAAAAAEBAAAAAAAAAGEAAAAAAAAAUQAAAAAAAAAhAAAAAAAAAMEAAAAAAAAAIQAAAAAAAAPA/AAAAAAAAAAAAAAAAAAAAAAAAAAAAAAAAAAAAAAAAAAAAAAAAAAAAAAAAAAAAAAAAAAAAAAAAAAAAAAAAAAAAAAAAAAAAAPA/",
          "dtype": "f8"
         }
        },
        {
         "hovertemplate": "%{y}",
         "line": {
          "color": "rgb(101, 110, 242)"
         },
         "mode": "lines",
         "name": "Menções de EDP em notícias sobre Galp",
         "type": "scatter",
         "x": [
          "2005-02-01T00:00:00.000000000",
          "2005-03-01T00:00:00.000000000",
          "2005-04-01T00:00:00.000000000",
          "2005-05-01T00:00:00.000000000",
          "2005-06-01T00:00:00.000000000",
          "2005-07-01T00:00:00.000000000",
          "2005-08-01T00:00:00.000000000",
          "2005-09-01T00:00:00.000000000",
          "2005-10-01T00:00:00.000000000",
          "2005-11-01T00:00:00.000000000",
          "2005-12-01T00:00:00.000000000",
          "2006-01-01T00:00:00.000000000",
          "2006-02-01T00:00:00.000000000",
          "2006-03-01T00:00:00.000000000",
          "2006-04-01T00:00:00.000000000",
          "2006-05-01T00:00:00.000000000",
          "2006-06-01T00:00:00.000000000",
          "2006-07-01T00:00:00.000000000",
          "2006-08-01T00:00:00.000000000",
          "2006-09-01T00:00:00.000000000",
          "2006-10-01T00:00:00.000000000",
          "2006-11-01T00:00:00.000000000",
          "2006-12-01T00:00:00.000000000",
          "2007-01-01T00:00:00.000000000",
          "2007-02-01T00:00:00.000000000",
          "2007-03-01T00:00:00.000000000",
          "2007-04-01T00:00:00.000000000",
          "2007-05-01T00:00:00.000000000",
          "2007-06-01T00:00:00.000000000",
          "2007-07-01T00:00:00.000000000",
          "2007-08-01T00:00:00.000000000",
          "2007-09-01T00:00:00.000000000",
          "2007-10-01T00:00:00.000000000",
          "2007-11-01T00:00:00.000000000",
          "2007-12-01T00:00:00.000000000",
          "2008-01-01T00:00:00.000000000",
          "2008-02-01T00:00:00.000000000",
          "2008-03-01T00:00:00.000000000",
          "2008-04-01T00:00:00.000000000",
          "2008-05-01T00:00:00.000000000",
          "2008-06-01T00:00:00.000000000",
          "2008-07-01T00:00:00.000000000",
          "2008-08-01T00:00:00.000000000",
          "2008-09-01T00:00:00.000000000",
          "2008-10-01T00:00:00.000000000",
          "2008-11-01T00:00:00.000000000",
          "2008-12-01T00:00:00.000000000",
          "2009-01-01T00:00:00.000000000",
          "2009-02-01T00:00:00.000000000",
          "2009-03-01T00:00:00.000000000",
          "2009-04-01T00:00:00.000000000",
          "2009-05-01T00:00:00.000000000",
          "2009-06-01T00:00:00.000000000",
          "2009-07-01T00:00:00.000000000",
          "2009-08-01T00:00:00.000000000",
          "2009-09-01T00:00:00.000000000",
          "2009-10-01T00:00:00.000000000",
          "2009-11-01T00:00:00.000000000",
          "2009-12-01T00:00:00.000000000",
          "2010-01-01T00:00:00.000000000",
          "2010-02-01T00:00:00.000000000",
          "2010-03-01T00:00:00.000000000",
          "2010-04-01T00:00:00.000000000",
          "2010-05-01T00:00:00.000000000",
          "2010-06-01T00:00:00.000000000",
          "2010-07-01T00:00:00.000000000",
          "2010-08-01T00:00:00.000000000",
          "2010-09-01T00:00:00.000000000",
          "2010-10-01T00:00:00.000000000",
          "2010-11-01T00:00:00.000000000",
          "2010-12-01T00:00:00.000000000",
          "2011-01-01T00:00:00.000000000",
          "2011-02-01T00:00:00.000000000",
          "2011-03-01T00:00:00.000000000",
          "2011-04-01T00:00:00.000000000",
          "2011-05-01T00:00:00.000000000",
          "2011-06-01T00:00:00.000000000",
          "2011-07-01T00:00:00.000000000",
          "2011-08-01T00:00:00.000000000",
          "2011-09-01T00:00:00.000000000",
          "2011-10-01T00:00:00.000000000",
          "2011-11-01T00:00:00.000000000",
          "2011-12-01T00:00:00.000000000",
          "2012-01-01T00:00:00.000000000",
          "2012-02-01T00:00:00.000000000",
          "2012-03-01T00:00:00.000000000",
          "2012-04-01T00:00:00.000000000",
          "2012-05-01T00:00:00.000000000",
          "2012-06-01T00:00:00.000000000",
          "2012-07-01T00:00:00.000000000",
          "2012-08-01T00:00:00.000000000",
          "2012-09-01T00:00:00.000000000",
          "2012-10-01T00:00:00.000000000",
          "2012-11-01T00:00:00.000000000",
          "2012-12-01T00:00:00.000000000",
          "2013-01-01T00:00:00.000000000",
          "2013-02-01T00:00:00.000000000",
          "2013-03-01T00:00:00.000000000",
          "2013-04-01T00:00:00.000000000",
          "2013-05-01T00:00:00.000000000",
          "2013-06-01T00:00:00.000000000",
          "2013-07-01T00:00:00.000000000",
          "2013-08-01T00:00:00.000000000",
          "2013-09-01T00:00:00.000000000",
          "2013-10-01T00:00:00.000000000",
          "2013-11-01T00:00:00.000000000",
          "2013-12-01T00:00:00.000000000",
          "2014-01-01T00:00:00.000000000",
          "2014-02-01T00:00:00.000000000",
          "2014-03-01T00:00:00.000000000",
          "2014-04-01T00:00:00.000000000",
          "2014-05-01T00:00:00.000000000",
          "2014-06-01T00:00:00.000000000",
          "2014-07-01T00:00:00.000000000",
          "2014-08-01T00:00:00.000000000",
          "2014-09-01T00:00:00.000000000",
          "2014-10-01T00:00:00.000000000",
          "2014-11-01T00:00:00.000000000",
          "2014-12-01T00:00:00.000000000",
          "2015-01-01T00:00:00.000000000",
          "2015-02-01T00:00:00.000000000",
          "2015-03-01T00:00:00.000000000",
          "2015-04-01T00:00:00.000000000",
          "2015-05-01T00:00:00.000000000",
          "2015-06-01T00:00:00.000000000",
          "2015-07-01T00:00:00.000000000",
          "2015-08-01T00:00:00.000000000",
          "2015-09-01T00:00:00.000000000",
          "2015-10-01T00:00:00.000000000",
          "2015-11-01T00:00:00.000000000",
          "2015-12-01T00:00:00.000000000",
          "2016-01-01T00:00:00.000000000",
          "2016-02-01T00:00:00.000000000",
          "2016-03-01T00:00:00.000000000",
          "2016-04-01T00:00:00.000000000",
          "2016-05-01T00:00:00.000000000",
          "2016-06-01T00:00:00.000000000",
          "2016-07-01T00:00:00.000000000",
          "2016-08-01T00:00:00.000000000",
          "2016-09-01T00:00:00.000000000",
          "2016-10-01T00:00:00.000000000",
          "2016-11-01T00:00:00.000000000",
          "2016-12-01T00:00:00.000000000",
          "2017-01-01T00:00:00.000000000",
          "2017-02-01T00:00:00.000000000",
          "2017-03-01T00:00:00.000000000",
          "2017-04-01T00:00:00.000000000",
          "2017-05-01T00:00:00.000000000",
          "2017-06-01T00:00:00.000000000",
          "2017-07-01T00:00:00.000000000",
          "2017-08-01T00:00:00.000000000",
          "2017-09-01T00:00:00.000000000",
          "2017-10-01T00:00:00.000000000",
          "2017-11-01T00:00:00.000000000",
          "2017-12-01T00:00:00.000000000",
          "2018-01-01T00:00:00.000000000",
          "2018-02-01T00:00:00.000000000",
          "2018-03-01T00:00:00.000000000",
          "2018-04-01T00:00:00.000000000",
          "2018-05-01T00:00:00.000000000",
          "2018-06-01T00:00:00.000000000",
          "2018-07-01T00:00:00.000000000",
          "2018-08-01T00:00:00.000000000",
          "2018-09-01T00:00:00.000000000",
          "2018-10-01T00:00:00.000000000",
          "2018-11-01T00:00:00.000000000",
          "2018-12-01T00:00:00.000000000",
          "2019-01-01T00:00:00.000000000",
          "2019-02-01T00:00:00.000000000",
          "2019-03-01T00:00:00.000000000",
          "2019-04-01T00:00:00.000000000",
          "2019-05-01T00:00:00.000000000",
          "2019-06-01T00:00:00.000000000",
          "2019-07-01T00:00:00.000000000",
          "2019-08-01T00:00:00.000000000",
          "2019-09-01T00:00:00.000000000",
          "2019-10-01T00:00:00.000000000",
          "2019-11-01T00:00:00.000000000",
          "2019-12-01T00:00:00.000000000",
          "2020-01-01T00:00:00.000000000",
          "2020-02-01T00:00:00.000000000",
          "2020-03-01T00:00:00.000000000",
          "2020-04-01T00:00:00.000000000",
          "2020-05-01T00:00:00.000000000",
          "2020-06-01T00:00:00.000000000",
          "2020-07-01T00:00:00.000000000",
          "2020-08-01T00:00:00.000000000",
          "2020-09-01T00:00:00.000000000",
          "2020-10-01T00:00:00.000000000",
          "2020-11-01T00:00:00.000000000",
          "2020-12-01T00:00:00.000000000",
          "2021-01-01T00:00:00.000000000",
          "2021-02-01T00:00:00.000000000",
          "2021-03-01T00:00:00.000000000",
          "2021-04-01T00:00:00.000000000",
          "2021-05-01T00:00:00.000000000",
          "2021-06-01T00:00:00.000000000",
          "2021-07-01T00:00:00.000000000",
          "2021-08-01T00:00:00.000000000",
          "2021-09-01T00:00:00.000000000",
          "2021-10-01T00:00:00.000000000",
          "2021-11-01T00:00:00.000000000",
          "2021-12-01T00:00:00.000000000",
          "2022-01-01T00:00:00.000000000",
          "2022-02-01T00:00:00.000000000",
          "2022-03-01T00:00:00.000000000",
          "2022-04-01T00:00:00.000000000",
          "2022-05-01T00:00:00.000000000",
          "2022-06-01T00:00:00.000000000",
          "2022-07-01T00:00:00.000000000",
          "2022-08-01T00:00:00.000000000",
          "2022-09-01T00:00:00.000000000",
          "2022-10-01T00:00:00.000000000",
          "2022-11-01T00:00:00.000000000",
          "2022-12-01T00:00:00.000000000",
          "2023-01-01T00:00:00.000000000",
          "2023-02-01T00:00:00.000000000",
          "2023-03-01T00:00:00.000000000",
          "2023-04-01T00:00:00.000000000",
          "2023-05-01T00:00:00.000000000",
          "2023-06-01T00:00:00.000000000",
          "2023-07-01T00:00:00.000000000",
          "2023-08-01T00:00:00.000000000",
          "2023-09-01T00:00:00.000000000",
          "2023-10-01T00:00:00.000000000",
          "2023-11-01T00:00:00.000000000",
          "2023-12-01T00:00:00.000000000",
          "2024-01-01T00:00:00.000000000"
         ],
         "y": {
          "bdata": "AAAAAAAAAEAAAAAAAAAAAAAAAAAAAAAAAAAAAAAAAAAAAAAAAAAAAAAAAAAAAAAAAAAAAAAAAAAAAAAAAAAAAAAAAAAAAAAAAAAAAAAAAAAAAAAAAAAAAAAAAAAAAAAAAAAAAAAAAAAAAAAAAAAAAAAAAAAAAAAAAAAAAAAAAAAAAAAAAAAAAAAAAAAAAAAAAAAAAAAAAAAAAAAAAAAAAAAAAAAAAAAAAAAAAAAAAAAAAAAAAAAAAAAAAAAAAAAAAAAAAAAAAAAAAAAAAAAAAAAAAAAAAAAAAAAAAAAAAAAAAAAAAAAAAAAAAAAAAAAAAAAAAAAAAAAAAAAAAAAAAAAAAAAAAAAAAAAAAAAAAAAAAAAAAAAAAAAAAAAAAAAAAAAAAAAAAAAAAAAAAAAAAAAAAAAAAAAAAAAAAAAAAAAAAAAAAAAAAAAAAAAAAAAAAAAAAAAAAAAAAAAAAAAAAAAAAAAAAAAAAAAAAAAAAAAAAAAAAAAAAAAAAAAAAAAAAAAAAAAAAAAAAAAAAAAAAAAAAAAAAAAAAAAAAAAAAAAAAAAAAAAQQAAAAAAAAAAAAAAAAAAAAAAAAAAAAAAAAAAAAAAAAAAAAAAAAAAAAAAAAAAAAAAAAAAAAAAAAAAAAAAAAAAAAAAAAAAAAAAAAAAAAAAAAABAAAAAAAAAHEAAAAAAAAAAAAAAAAAAAAAAAAAAAAAAAAAAAAAAAAAAAAAAAAAAAAAAAAAAAAAAAAAAAAAAAAAAAAAAAAAAACxAAAAAAAAAAAAAAAAAAAAAAAAAAAAAAAAAAAAAAAAAQUAAAAAAAAAAAAAAAAAAAAhAAAAAAAAAAAAAAAAAAAAAAAAAAAAAAAAAAAAAAAAAAAAAAAAAAAAAAAAAAAAAAAAAAAAAAAAAAAAAAAAAAAAAAAAAAAAAAAAAAAAAAAAAAAAAAAAAAAAAAAAAAAAAAAAAAAAAAAAAAAAAAAAAAAAAAAAAAAAAAAAAAAAAAAAAAAAAAAAAAAAAAAAAAAAAAAAAAAAAAAAAAAAAAAAAAAAAAAAAAAAAAAAAAAAAAAAAAAAAAAAAAAAAAAAAAAAAAAAAAAAAAAAAAAAAAAAAAAAAAAAAAAAAAAAAAAAAAAAAAAAAAAAAAAAAAAAAAAAAAAAAAAAAAAAAAAAAAAAAAAAAAAAAAAAAAAAAAAAAAAAAAAAAAAAAAAAAAAAAAAAAAAAAAAAAAAAAAAAAAAAAAAAAAAAAAAAAAABAAAAAAAAAAEAAAAAAAAAAQAAAAAAAAABAAAAAAAAAAEAAAAAAAAAAQAAAAAAAAENAAAAAAAAATkAAAAAAAAAxQAAAAAAAAABAAAAAAAAAAAAAAAAAAAAxQAAAAAAAAAAAAAAAAAAAEEAAAAAAAAAAAAAAAAAAAAAAAAAAAAAAAAAAAAAAAAAAAAAAAAAAAAAAAAAAAAAAAAAAAAAAAIBLQAAAAAAAAAAAAAAAAAAAAAAAAAAAAAAAAAAAAAAAAAAAAAAAAAAACEAAAAAAAAAAAAAAAAAAAAAAAAAAAAAAM0AAAAAAAAA6QAAAAAAAABhAAAAAAACARkAAAAAAAADwPwAAAAAAACZAAAAAAAAAO0AAAAAAAAAYQAAAAAAAwFZAAAAAAAAAKEAAAAAAAAAzQAAAAAAAgEFAAAAAAAAA8D8AAAAAAAAQQAAAAAAAUHJAAAAAAACgeEAAAAAAAABYQAAAAAAAwGVAAAAAAABgfkAAAAAAAAA4QAAAAAAAAENAAAAAAAAAO0AAAAAAAAAYQAAAAAAAADNAAAAAAAAAAEAAAAAAAAAIQAAAAAAAAAAAAAAAAAAA8D8AAAAAAAAiQAAAAAAAABBAAAAAAAAAM0AAAAAAAAAwQAAAAAAAACBAAAAAAAAAQEAAAAAAAAAiQAAAAAAAABBAAAAAAAAAFEAAAAAAAAAkQAAAAAAAAAAAAAAAAAAA8D8AAAAAAAA5QAAAAAAAwFRAAAAAAAAAIkAAAAAAAAAAQAAAAAAAAAAAAAAAAAAAAAAAAAAAAABMQAAAAAAAACRAAAAAAAAAKkAAAAAAAAAAAAAAAAAAAPA/AAAAAAAAAAAAAAAAAAAAQAAAAAAAAABAAAAAAAAAGEAAAAAAAAAAAAAAAAAAABRAAAAAAAAAAEAAAAAAAAA9QAAAAAAAAAAAAAAAAAAAFEAAAAAAAAAAQAAAAAAAAABAAAAAAAAAMEAAAAAAAAAAAAAAAAAAADNAAAAAAAAASkAAAAAAAAAAAAAAAAAAABxAAAAAAAAAGEAAAAAAAAAkQAAAAAAAAAAAAAAAAAAAHEAAAAAAAAAUQAAAAAAAABhAAAAAAAAAAAAAAAAAAAAAAAAAAAAAAAAAAAAAAAAAAAAAAAAAAAAAAAAAAAAAAAAAAAAAAAAAAAAAAAAAAAAAAAAAAAAAABBA",
          "dtype": "f8"
         }
        }
       ],
       "layout": {
        "hovermode": "x unified",
        "legend": {
         "bgcolor": "rgba(255,255,255,1)",
         "bordercolor": "black",
         "borderwidth": 1,
         "x": 0.02,
         "y": 0.98
        },
        "margin": {
         "b": 0,
         "l": 0,
         "r": 0,
         "t": 0
        },
        "paper_bgcolor": "rgba(0,0,0,0)",
        "plot_bgcolor": "rgba(0,0,0,0)",
        "template": {
         "data": {
          "bar": [
           {
            "error_x": {
             "color": "#2a3f5f"
            },
            "error_y": {
             "color": "#2a3f5f"
            },
            "marker": {
             "line": {
              "color": "#E5ECF6",
              "width": 0.5
             },
             "pattern": {
              "fillmode": "overlay",
              "size": 10,
              "solidity": 0.2
             }
            },
            "type": "bar"
           }
          ],
          "barpolar": [
           {
            "marker": {
             "line": {
              "color": "#E5ECF6",
              "width": 0.5
             },
             "pattern": {
              "fillmode": "overlay",
              "size": 10,
              "solidity": 0.2
             }
            },
            "type": "barpolar"
           }
          ],
          "carpet": [
           {
            "aaxis": {
             "endlinecolor": "#2a3f5f",
             "gridcolor": "white",
             "linecolor": "white",
             "minorgridcolor": "white",
             "startlinecolor": "#2a3f5f"
            },
            "baxis": {
             "endlinecolor": "#2a3f5f",
             "gridcolor": "white",
             "linecolor": "white",
             "minorgridcolor": "white",
             "startlinecolor": "#2a3f5f"
            },
            "type": "carpet"
           }
          ],
          "choropleth": [
           {
            "colorbar": {
             "outlinewidth": 0,
             "ticks": ""
            },
            "type": "choropleth"
           }
          ],
          "contour": [
           {
            "colorbar": {
             "outlinewidth": 0,
             "ticks": ""
            },
            "colorscale": [
             [
              0,
              "#0d0887"
             ],
             [
              0.1111111111111111,
              "#46039f"
             ],
             [
              0.2222222222222222,
              "#7201a8"
             ],
             [
              0.3333333333333333,
              "#9c179e"
             ],
             [
              0.4444444444444444,
              "#bd3786"
             ],
             [
              0.5555555555555556,
              "#d8576b"
             ],
             [
              0.6666666666666666,
              "#ed7953"
             ],
             [
              0.7777777777777778,
              "#fb9f3a"
             ],
             [
              0.8888888888888888,
              "#fdca26"
             ],
             [
              1,
              "#f0f921"
             ]
            ],
            "type": "contour"
           }
          ],
          "contourcarpet": [
           {
            "colorbar": {
             "outlinewidth": 0,
             "ticks": ""
            },
            "type": "contourcarpet"
           }
          ],
          "heatmap": [
           {
            "colorbar": {
             "outlinewidth": 0,
             "ticks": ""
            },
            "colorscale": [
             [
              0,
              "#0d0887"
             ],
             [
              0.1111111111111111,
              "#46039f"
             ],
             [
              0.2222222222222222,
              "#7201a8"
             ],
             [
              0.3333333333333333,
              "#9c179e"
             ],
             [
              0.4444444444444444,
              "#bd3786"
             ],
             [
              0.5555555555555556,
              "#d8576b"
             ],
             [
              0.6666666666666666,
              "#ed7953"
             ],
             [
              0.7777777777777778,
              "#fb9f3a"
             ],
             [
              0.8888888888888888,
              "#fdca26"
             ],
             [
              1,
              "#f0f921"
             ]
            ],
            "type": "heatmap"
           }
          ],
          "histogram": [
           {
            "marker": {
             "pattern": {
              "fillmode": "overlay",
              "size": 10,
              "solidity": 0.2
             }
            },
            "type": "histogram"
           }
          ],
          "histogram2d": [
           {
            "colorbar": {
             "outlinewidth": 0,
             "ticks": ""
            },
            "colorscale": [
             [
              0,
              "#0d0887"
             ],
             [
              0.1111111111111111,
              "#46039f"
             ],
             [
              0.2222222222222222,
              "#7201a8"
             ],
             [
              0.3333333333333333,
              "#9c179e"
             ],
             [
              0.4444444444444444,
              "#bd3786"
             ],
             [
              0.5555555555555556,
              "#d8576b"
             ],
             [
              0.6666666666666666,
              "#ed7953"
             ],
             [
              0.7777777777777778,
              "#fb9f3a"
             ],
             [
              0.8888888888888888,
              "#fdca26"
             ],
             [
              1,
              "#f0f921"
             ]
            ],
            "type": "histogram2d"
           }
          ],
          "histogram2dcontour": [
           {
            "colorbar": {
             "outlinewidth": 0,
             "ticks": ""
            },
            "colorscale": [
             [
              0,
              "#0d0887"
             ],
             [
              0.1111111111111111,
              "#46039f"
             ],
             [
              0.2222222222222222,
              "#7201a8"
             ],
             [
              0.3333333333333333,
              "#9c179e"
             ],
             [
              0.4444444444444444,
              "#bd3786"
             ],
             [
              0.5555555555555556,
              "#d8576b"
             ],
             [
              0.6666666666666666,
              "#ed7953"
             ],
             [
              0.7777777777777778,
              "#fb9f3a"
             ],
             [
              0.8888888888888888,
              "#fdca26"
             ],
             [
              1,
              "#f0f921"
             ]
            ],
            "type": "histogram2dcontour"
           }
          ],
          "mesh3d": [
           {
            "colorbar": {
             "outlinewidth": 0,
             "ticks": ""
            },
            "type": "mesh3d"
           }
          ],
          "parcoords": [
           {
            "line": {
             "colorbar": {
              "outlinewidth": 0,
              "ticks": ""
             }
            },
            "type": "parcoords"
           }
          ],
          "pie": [
           {
            "automargin": true,
            "type": "pie"
           }
          ],
          "scatter": [
           {
            "fillpattern": {
             "fillmode": "overlay",
             "size": 10,
             "solidity": 0.2
            },
            "type": "scatter"
           }
          ],
          "scatter3d": [
           {
            "line": {
             "colorbar": {
              "outlinewidth": 0,
              "ticks": ""
             }
            },
            "marker": {
             "colorbar": {
              "outlinewidth": 0,
              "ticks": ""
             }
            },
            "type": "scatter3d"
           }
          ],
          "scattercarpet": [
           {
            "marker": {
             "colorbar": {
              "outlinewidth": 0,
              "ticks": ""
             }
            },
            "type": "scattercarpet"
           }
          ],
          "scattergeo": [
           {
            "marker": {
             "colorbar": {
              "outlinewidth": 0,
              "ticks": ""
             }
            },
            "type": "scattergeo"
           }
          ],
          "scattergl": [
           {
            "marker": {
             "colorbar": {
              "outlinewidth": 0,
              "ticks": ""
             }
            },
            "type": "scattergl"
           }
          ],
          "scattermap": [
           {
            "marker": {
             "colorbar": {
              "outlinewidth": 0,
              "ticks": ""
             }
            },
            "type": "scattermap"
           }
          ],
          "scattermapbox": [
           {
            "marker": {
             "colorbar": {
              "outlinewidth": 0,
              "ticks": ""
             }
            },
            "type": "scattermapbox"
           }
          ],
          "scatterpolar": [
           {
            "marker": {
             "colorbar": {
              "outlinewidth": 0,
              "ticks": ""
             }
            },
            "type": "scatterpolar"
           }
          ],
          "scatterpolargl": [
           {
            "marker": {
             "colorbar": {
              "outlinewidth": 0,
              "ticks": ""
             }
            },
            "type": "scatterpolargl"
           }
          ],
          "scatterternary": [
           {
            "marker": {
             "colorbar": {
              "outlinewidth": 0,
              "ticks": ""
             }
            },
            "type": "scatterternary"
           }
          ],
          "surface": [
           {
            "colorbar": {
             "outlinewidth": 0,
             "ticks": ""
            },
            "colorscale": [
             [
              0,
              "#0d0887"
             ],
             [
              0.1111111111111111,
              "#46039f"
             ],
             [
              0.2222222222222222,
              "#7201a8"
             ],
             [
              0.3333333333333333,
              "#9c179e"
             ],
             [
              0.4444444444444444,
              "#bd3786"
             ],
             [
              0.5555555555555556,
              "#d8576b"
             ],
             [
              0.6666666666666666,
              "#ed7953"
             ],
             [
              0.7777777777777778,
              "#fb9f3a"
             ],
             [
              0.8888888888888888,
              "#fdca26"
             ],
             [
              1,
              "#f0f921"
             ]
            ],
            "type": "surface"
           }
          ],
          "table": [
           {
            "cells": {
             "fill": {
              "color": "#EBF0F8"
             },
             "line": {
              "color": "white"
             }
            },
            "header": {
             "fill": {
              "color": "#C8D4E3"
             },
             "line": {
              "color": "white"
             }
            },
            "type": "table"
           }
          ]
         },
         "layout": {
          "annotationdefaults": {
           "arrowcolor": "#2a3f5f",
           "arrowhead": 0,
           "arrowwidth": 1
          },
          "autotypenumbers": "strict",
          "coloraxis": {
           "colorbar": {
            "outlinewidth": 0,
            "ticks": ""
           }
          },
          "colorscale": {
           "diverging": [
            [
             0,
             "#8e0152"
            ],
            [
             0.1,
             "#c51b7d"
            ],
            [
             0.2,
             "#de77ae"
            ],
            [
             0.3,
             "#f1b6da"
            ],
            [
             0.4,
             "#fde0ef"
            ],
            [
             0.5,
             "#f7f7f7"
            ],
            [
             0.6,
             "#e6f5d0"
            ],
            [
             0.7,
             "#b8e186"
            ],
            [
             0.8,
             "#7fbc41"
            ],
            [
             0.9,
             "#4d9221"
            ],
            [
             1,
             "#276419"
            ]
           ],
           "sequential": [
            [
             0,
             "#0d0887"
            ],
            [
             0.1111111111111111,
             "#46039f"
            ],
            [
             0.2222222222222222,
             "#7201a8"
            ],
            [
             0.3333333333333333,
             "#9c179e"
            ],
            [
             0.4444444444444444,
             "#bd3786"
            ],
            [
             0.5555555555555556,
             "#d8576b"
            ],
            [
             0.6666666666666666,
             "#ed7953"
            ],
            [
             0.7777777777777778,
             "#fb9f3a"
            ],
            [
             0.8888888888888888,
             "#fdca26"
            ],
            [
             1,
             "#f0f921"
            ]
           ],
           "sequentialminus": [
            [
             0,
             "#0d0887"
            ],
            [
             0.1111111111111111,
             "#46039f"
            ],
            [
             0.2222222222222222,
             "#7201a8"
            ],
            [
             0.3333333333333333,
             "#9c179e"
            ],
            [
             0.4444444444444444,
             "#bd3786"
            ],
            [
             0.5555555555555556,
             "#d8576b"
            ],
            [
             0.6666666666666666,
             "#ed7953"
            ],
            [
             0.7777777777777778,
             "#fb9f3a"
            ],
            [
             0.8888888888888888,
             "#fdca26"
            ],
            [
             1,
             "#f0f921"
            ]
           ]
          },
          "colorway": [
           "#636efa",
           "#EF553B",
           "#00cc96",
           "#ab63fa",
           "#FFA15A",
           "#19d3f3",
           "#FF6692",
           "#B6E880",
           "#FF97FF",
           "#FECB52"
          ],
          "font": {
           "color": "#2a3f5f"
          },
          "geo": {
           "bgcolor": "white",
           "lakecolor": "white",
           "landcolor": "#E5ECF6",
           "showlakes": true,
           "showland": true,
           "subunitcolor": "white"
          },
          "hoverlabel": {
           "align": "left"
          },
          "hovermode": "closest",
          "mapbox": {
           "style": "light"
          },
          "paper_bgcolor": "white",
          "plot_bgcolor": "#E5ECF6",
          "polar": {
           "angularaxis": {
            "gridcolor": "white",
            "linecolor": "white",
            "ticks": ""
           },
           "bgcolor": "#E5ECF6",
           "radialaxis": {
            "gridcolor": "white",
            "linecolor": "white",
            "ticks": ""
           }
          },
          "scene": {
           "xaxis": {
            "backgroundcolor": "#E5ECF6",
            "gridcolor": "white",
            "gridwidth": 2,
            "linecolor": "white",
            "showbackground": true,
            "ticks": "",
            "zerolinecolor": "white"
           },
           "yaxis": {
            "backgroundcolor": "#E5ECF6",
            "gridcolor": "white",
            "gridwidth": 2,
            "linecolor": "white",
            "showbackground": true,
            "ticks": "",
            "zerolinecolor": "white"
           },
           "zaxis": {
            "backgroundcolor": "#E5ECF6",
            "gridcolor": "white",
            "gridwidth": 2,
            "linecolor": "white",
            "showbackground": true,
            "ticks": "",
            "zerolinecolor": "white"
           }
          },
          "shapedefaults": {
           "line": {
            "color": "#2a3f5f"
           }
          },
          "ternary": {
           "aaxis": {
            "gridcolor": "white",
            "linecolor": "white",
            "ticks": ""
           },
           "baxis": {
            "gridcolor": "white",
            "linecolor": "white",
            "ticks": ""
           },
           "bgcolor": "#E5ECF6",
           "caxis": {
            "gridcolor": "white",
            "linecolor": "white",
            "ticks": ""
           }
          },
          "title": {
           "x": 0.05
          },
          "xaxis": {
           "automargin": true,
           "gridcolor": "white",
           "linecolor": "white",
           "ticks": "",
           "title": {
            "standoff": 15
           },
           "zerolinecolor": "white",
           "zerolinewidth": 2
          },
          "yaxis": {
           "automargin": true,
           "gridcolor": "white",
           "linecolor": "white",
           "ticks": "",
           "title": {
            "standoff": 15
           },
           "zerolinecolor": "white",
           "zerolinewidth": 2
          }
         }
        },
        "xaxis": {
         "linecolor": "black",
         "linewidth": 2,
         "showgrid": false,
         "tickformat": "%m/%Y",
         "title": {
          "text": "Data"
         },
         "zeroline": true,
         "zerolinecolor": "black"
        },
        "yaxis": {
         "gridcolor": "lightgray",
         "linecolor": "black",
         "linewidth": 2,
         "range": [
          0,
          534.6
         ],
         "showgrid": true,
         "title": {
          "text": "Contagem"
         },
         "zeroline": true,
         "zerolinecolor": "black"
        }
       }
      }
     },
     "metadata": {},
     "output_type": "display_data"
    }
   ],
   "source": [
    "from pyspark.sql import functions as F\n",
    "import pandas as pd\n",
    "import plotly.graph_objects as go\n",
    "\n",
    "query = \"Galp\"\n",
    "search_topic = \"EDP\"\n",
    "\n",
    "#traducao_meses = {\n",
    "#    \"January\": \"Janeiro\", \"February\": \"Fevereiro\", \"March\": \"Março\",\n",
    "#    \"April\": \"Abril\", \"May\": \"Maio\", \"June\": \"Junho\",\n",
    "#    \"July\": \"Julho\", \"August\": \"Agosto\", \"September\": \"Setembro\",\n",
    "#    \"October\": \"Outubro\", \"November\": \"Novembro\", \"December\": \"Dezembro\"\n",
    "#}\n",
    "\n",
    "# number of news per month\n",
    "news_by_month = (\n",
    "    df_with_query\n",
    "    .groupBy('timestamp')\n",
    "    .agg(F.count('archive').alias('count_of_news'))\n",
    "    .toPandas()\n",
    ")\n",
    "news_by_month[\"timestamp\"] = pd.to_datetime(news_by_month[\"timestamp\"].astype(str), format='%Y%m')\n",
    "\n",
    "# number of mentions of the specific keyword\n",
    "specific_keyword = pd.DataFrame(list(filtered[1].items()), columns=[\"date\", \"count_specific_keyword\"])\n",
    "specific_keyword[\"date\"] = pd.to_datetime(specific_keyword[\"date\"], format=\"%Y%m\")\n",
    "\n",
    "# merge the two dataframes\n",
    "news_history = news_by_month.merge(specific_keyword, left_on=\"timestamp\", right_on=\"date\", how=\"left\")\n",
    "\n",
    "# create full data range\n",
    "min_date = news_history[\"timestamp\"].min()\n",
    "max_date = news_history[\"timestamp\"].max()\n",
    "full_range = pd.date_range(start=min_date, end=max_date, freq='MS')\n",
    "news_history = news_history.set_index(\"timestamp\").reindex(full_range).fillna(0).reset_index()\n",
    "news_history = news_history.rename(columns={\"index\": \"timestamp\"})\n",
    "news_history = news_history.sort_values(by=\"timestamp\")\n",
    "\n",
    "#news_history[\"data_formatada\"] = news_history[\"timestamp\"].dt.strftime(\"%B de %Y\").replace(traducao_meses, regex=True)\n",
    "\n",
    "fig = go.Figure()\n",
    "\n",
    "fig.add_trace(go.Scatter(\n",
    "    x=news_history[\"timestamp\"],\n",
    "    y=news_history[\"count_of_news\"],\n",
    "    mode=\"lines\",\n",
    "    name=f\"Notícias sobre {query}\",\n",
    "    hovertemplate=\"%{y}\"\n",
    "))\n",
    "\n",
    "fig.add_trace(go.Scatter(\n",
    "    x=news_history[\"timestamp\"],\n",
    "    y=news_history[\"count_specific_keyword\"],\n",
    "    mode=\"lines\",\n",
    "    name=f\"Menções de {search_topic} em notícias sobre {query}\",\n",
    "    hovertemplate=\"%{y}\"\n",
    "))\n",
    "\n",
    "fig.update_layout(\n",
    "    xaxis_title=\"Data\",\n",
    "    yaxis_title=\"Contagem\",\n",
    "    hovermode=\"x unified\",\n",
    "    paper_bgcolor=\"rgba(0,0,0,0)\",\n",
    "    plot_bgcolor=\"rgba(0,0,0,0)\",\n",
    "    margin=dict(t=0, b=0, l=0, r=0),\n",
    "    xaxis=dict(\n",
    "        showgrid=False,\n",
    "        zeroline=True,\n",
    "        zerolinecolor=\"black\",\n",
    "        linecolor=\"black\",\n",
    "        linewidth=2\n",
    "    ),\n",
    "    yaxis=dict(\n",
    "        range=[0, max(news_history[\"count_of_news\"].max(), news_history[\"count_specific_keyword\"].max()) * 1.1],\n",
    "        showgrid=True,  \n",
    "        gridcolor=\"lightgray\",  \n",
    "        zeroline=True,\n",
    "        zerolinecolor=\"black\",\n",
    "        linecolor=\"black\",\n",
    "        linewidth=2\n",
    "    ),\n",
    "    legend=dict(\n",
    "        x=0.02,\n",
    "        y=0.98,\n",
    "        bgcolor=\"rgba(255,255,255,1)\",\n",
    "        bordercolor=\"black\",\n",
    "        borderwidth=1\n",
    "    ),\n",
    ")\n",
    "\n",
    "fig.data[0].update(line=dict(color='rgba(101, 110, 242, 0.3)'))\n",
    "fig.data[1].update(line=dict(color='rgb(101, 110, 242)'))\n",
    "\n",
    "fig.update_xaxes(tickformat=\"%m/%Y\")\n",
    "\n",
    "fig.show(config={'displayModeBar': False})"
   ]
  },
  {
   "cell_type": "markdown",
   "metadata": {},
   "source": [
    "### related pie\n",
    "\n",
    "json"
   ]
  },
  {
   "cell_type": "code",
   "execution_count": 23,
   "metadata": {},
   "outputs": [
    {
     "data": {
      "application/vnd.plotly.v1+json": {
       "config": {
        "displayModeBar": false,
        "plotlyServerURL": "https://plot.ly"
       },
       "data": [
        {
         "hoverinfo": "label+value+percent",
         "hovertemplate": "<b>%{label}</b><br>Notícias: %{value}<br>Percentagem: %{percent:.2%}<extra></extra>",
         "labels": [
          "Notícias ao Minuto",
          "Correio da Manhã",
          "SAPO",
          "Dinheiro Vivo",
          "Expresso",
          "AEIOU",
          "Observador",
          "RTP",
          "IOL",
          "Público",
          "Diário de Notícias",
          "Jornal de Negócios",
          "SIC Notícias"
         ],
         "textfont": {
          "size": 12
         },
         "textinfo": "label",
         "textposition": "inside",
         "type": "pie",
         "values": [
          2,
          5,
          297,
          66,
          5,
          9,
          44,
          8,
          5,
          29,
          1,
          24,
          10
         ]
        }
       ],
       "layout": {
        "margin": {
         "b": 25,
         "l": 0,
         "r": 0,
         "t": 25
        },
        "paper_bgcolor": "rgba(0,0,0,0)",
        "plot_bgcolor": "rgba(0,0,0,0)",
        "showlegend": false,
        "template": {
         "data": {
          "bar": [
           {
            "error_x": {
             "color": "#2a3f5f"
            },
            "error_y": {
             "color": "#2a3f5f"
            },
            "marker": {
             "line": {
              "color": "#E5ECF6",
              "width": 0.5
             },
             "pattern": {
              "fillmode": "overlay",
              "size": 10,
              "solidity": 0.2
             }
            },
            "type": "bar"
           }
          ],
          "barpolar": [
           {
            "marker": {
             "line": {
              "color": "#E5ECF6",
              "width": 0.5
             },
             "pattern": {
              "fillmode": "overlay",
              "size": 10,
              "solidity": 0.2
             }
            },
            "type": "barpolar"
           }
          ],
          "carpet": [
           {
            "aaxis": {
             "endlinecolor": "#2a3f5f",
             "gridcolor": "white",
             "linecolor": "white",
             "minorgridcolor": "white",
             "startlinecolor": "#2a3f5f"
            },
            "baxis": {
             "endlinecolor": "#2a3f5f",
             "gridcolor": "white",
             "linecolor": "white",
             "minorgridcolor": "white",
             "startlinecolor": "#2a3f5f"
            },
            "type": "carpet"
           }
          ],
          "choropleth": [
           {
            "colorbar": {
             "outlinewidth": 0,
             "ticks": ""
            },
            "type": "choropleth"
           }
          ],
          "contour": [
           {
            "colorbar": {
             "outlinewidth": 0,
             "ticks": ""
            },
            "colorscale": [
             [
              0,
              "#0d0887"
             ],
             [
              0.1111111111111111,
              "#46039f"
             ],
             [
              0.2222222222222222,
              "#7201a8"
             ],
             [
              0.3333333333333333,
              "#9c179e"
             ],
             [
              0.4444444444444444,
              "#bd3786"
             ],
             [
              0.5555555555555556,
              "#d8576b"
             ],
             [
              0.6666666666666666,
              "#ed7953"
             ],
             [
              0.7777777777777778,
              "#fb9f3a"
             ],
             [
              0.8888888888888888,
              "#fdca26"
             ],
             [
              1,
              "#f0f921"
             ]
            ],
            "type": "contour"
           }
          ],
          "contourcarpet": [
           {
            "colorbar": {
             "outlinewidth": 0,
             "ticks": ""
            },
            "type": "contourcarpet"
           }
          ],
          "heatmap": [
           {
            "colorbar": {
             "outlinewidth": 0,
             "ticks": ""
            },
            "colorscale": [
             [
              0,
              "#0d0887"
             ],
             [
              0.1111111111111111,
              "#46039f"
             ],
             [
              0.2222222222222222,
              "#7201a8"
             ],
             [
              0.3333333333333333,
              "#9c179e"
             ],
             [
              0.4444444444444444,
              "#bd3786"
             ],
             [
              0.5555555555555556,
              "#d8576b"
             ],
             [
              0.6666666666666666,
              "#ed7953"
             ],
             [
              0.7777777777777778,
              "#fb9f3a"
             ],
             [
              0.8888888888888888,
              "#fdca26"
             ],
             [
              1,
              "#f0f921"
             ]
            ],
            "type": "heatmap"
           }
          ],
          "histogram": [
           {
            "marker": {
             "pattern": {
              "fillmode": "overlay",
              "size": 10,
              "solidity": 0.2
             }
            },
            "type": "histogram"
           }
          ],
          "histogram2d": [
           {
            "colorbar": {
             "outlinewidth": 0,
             "ticks": ""
            },
            "colorscale": [
             [
              0,
              "#0d0887"
             ],
             [
              0.1111111111111111,
              "#46039f"
             ],
             [
              0.2222222222222222,
              "#7201a8"
             ],
             [
              0.3333333333333333,
              "#9c179e"
             ],
             [
              0.4444444444444444,
              "#bd3786"
             ],
             [
              0.5555555555555556,
              "#d8576b"
             ],
             [
              0.6666666666666666,
              "#ed7953"
             ],
             [
              0.7777777777777778,
              "#fb9f3a"
             ],
             [
              0.8888888888888888,
              "#fdca26"
             ],
             [
              1,
              "#f0f921"
             ]
            ],
            "type": "histogram2d"
           }
          ],
          "histogram2dcontour": [
           {
            "colorbar": {
             "outlinewidth": 0,
             "ticks": ""
            },
            "colorscale": [
             [
              0,
              "#0d0887"
             ],
             [
              0.1111111111111111,
              "#46039f"
             ],
             [
              0.2222222222222222,
              "#7201a8"
             ],
             [
              0.3333333333333333,
              "#9c179e"
             ],
             [
              0.4444444444444444,
              "#bd3786"
             ],
             [
              0.5555555555555556,
              "#d8576b"
             ],
             [
              0.6666666666666666,
              "#ed7953"
             ],
             [
              0.7777777777777778,
              "#fb9f3a"
             ],
             [
              0.8888888888888888,
              "#fdca26"
             ],
             [
              1,
              "#f0f921"
             ]
            ],
            "type": "histogram2dcontour"
           }
          ],
          "mesh3d": [
           {
            "colorbar": {
             "outlinewidth": 0,
             "ticks": ""
            },
            "type": "mesh3d"
           }
          ],
          "parcoords": [
           {
            "line": {
             "colorbar": {
              "outlinewidth": 0,
              "ticks": ""
             }
            },
            "type": "parcoords"
           }
          ],
          "pie": [
           {
            "automargin": true,
            "type": "pie"
           }
          ],
          "scatter": [
           {
            "fillpattern": {
             "fillmode": "overlay",
             "size": 10,
             "solidity": 0.2
            },
            "type": "scatter"
           }
          ],
          "scatter3d": [
           {
            "line": {
             "colorbar": {
              "outlinewidth": 0,
              "ticks": ""
             }
            },
            "marker": {
             "colorbar": {
              "outlinewidth": 0,
              "ticks": ""
             }
            },
            "type": "scatter3d"
           }
          ],
          "scattercarpet": [
           {
            "marker": {
             "colorbar": {
              "outlinewidth": 0,
              "ticks": ""
             }
            },
            "type": "scattercarpet"
           }
          ],
          "scattergeo": [
           {
            "marker": {
             "colorbar": {
              "outlinewidth": 0,
              "ticks": ""
             }
            },
            "type": "scattergeo"
           }
          ],
          "scattergl": [
           {
            "marker": {
             "colorbar": {
              "outlinewidth": 0,
              "ticks": ""
             }
            },
            "type": "scattergl"
           }
          ],
          "scattermap": [
           {
            "marker": {
             "colorbar": {
              "outlinewidth": 0,
              "ticks": ""
             }
            },
            "type": "scattermap"
           }
          ],
          "scattermapbox": [
           {
            "marker": {
             "colorbar": {
              "outlinewidth": 0,
              "ticks": ""
             }
            },
            "type": "scattermapbox"
           }
          ],
          "scatterpolar": [
           {
            "marker": {
             "colorbar": {
              "outlinewidth": 0,
              "ticks": ""
             }
            },
            "type": "scatterpolar"
           }
          ],
          "scatterpolargl": [
           {
            "marker": {
             "colorbar": {
              "outlinewidth": 0,
              "ticks": ""
             }
            },
            "type": "scatterpolargl"
           }
          ],
          "scatterternary": [
           {
            "marker": {
             "colorbar": {
              "outlinewidth": 0,
              "ticks": ""
             }
            },
            "type": "scatterternary"
           }
          ],
          "surface": [
           {
            "colorbar": {
             "outlinewidth": 0,
             "ticks": ""
            },
            "colorscale": [
             [
              0,
              "#0d0887"
             ],
             [
              0.1111111111111111,
              "#46039f"
             ],
             [
              0.2222222222222222,
              "#7201a8"
             ],
             [
              0.3333333333333333,
              "#9c179e"
             ],
             [
              0.4444444444444444,
              "#bd3786"
             ],
             [
              0.5555555555555556,
              "#d8576b"
             ],
             [
              0.6666666666666666,
              "#ed7953"
             ],
             [
              0.7777777777777778,
              "#fb9f3a"
             ],
             [
              0.8888888888888888,
              "#fdca26"
             ],
             [
              1,
              "#f0f921"
             ]
            ],
            "type": "surface"
           }
          ],
          "table": [
           {
            "cells": {
             "fill": {
              "color": "#EBF0F8"
             },
             "line": {
              "color": "white"
             }
            },
            "header": {
             "fill": {
              "color": "#C8D4E3"
             },
             "line": {
              "color": "white"
             }
            },
            "type": "table"
           }
          ]
         },
         "layout": {
          "annotationdefaults": {
           "arrowcolor": "#2a3f5f",
           "arrowhead": 0,
           "arrowwidth": 1
          },
          "autotypenumbers": "strict",
          "coloraxis": {
           "colorbar": {
            "outlinewidth": 0,
            "ticks": ""
           }
          },
          "colorscale": {
           "diverging": [
            [
             0,
             "#8e0152"
            ],
            [
             0.1,
             "#c51b7d"
            ],
            [
             0.2,
             "#de77ae"
            ],
            [
             0.3,
             "#f1b6da"
            ],
            [
             0.4,
             "#fde0ef"
            ],
            [
             0.5,
             "#f7f7f7"
            ],
            [
             0.6,
             "#e6f5d0"
            ],
            [
             0.7,
             "#b8e186"
            ],
            [
             0.8,
             "#7fbc41"
            ],
            [
             0.9,
             "#4d9221"
            ],
            [
             1,
             "#276419"
            ]
           ],
           "sequential": [
            [
             0,
             "#0d0887"
            ],
            [
             0.1111111111111111,
             "#46039f"
            ],
            [
             0.2222222222222222,
             "#7201a8"
            ],
            [
             0.3333333333333333,
             "#9c179e"
            ],
            [
             0.4444444444444444,
             "#bd3786"
            ],
            [
             0.5555555555555556,
             "#d8576b"
            ],
            [
             0.6666666666666666,
             "#ed7953"
            ],
            [
             0.7777777777777778,
             "#fb9f3a"
            ],
            [
             0.8888888888888888,
             "#fdca26"
            ],
            [
             1,
             "#f0f921"
            ]
           ],
           "sequentialminus": [
            [
             0,
             "#0d0887"
            ],
            [
             0.1111111111111111,
             "#46039f"
            ],
            [
             0.2222222222222222,
             "#7201a8"
            ],
            [
             0.3333333333333333,
             "#9c179e"
            ],
            [
             0.4444444444444444,
             "#bd3786"
            ],
            [
             0.5555555555555556,
             "#d8576b"
            ],
            [
             0.6666666666666666,
             "#ed7953"
            ],
            [
             0.7777777777777778,
             "#fb9f3a"
            ],
            [
             0.8888888888888888,
             "#fdca26"
            ],
            [
             1,
             "#f0f921"
            ]
           ]
          },
          "colorway": [
           "#636efa",
           "#EF553B",
           "#00cc96",
           "#ab63fa",
           "#FFA15A",
           "#19d3f3",
           "#FF6692",
           "#B6E880",
           "#FF97FF",
           "#FECB52"
          ],
          "font": {
           "color": "#2a3f5f"
          },
          "geo": {
           "bgcolor": "white",
           "lakecolor": "white",
           "landcolor": "#E5ECF6",
           "showlakes": true,
           "showland": true,
           "subunitcolor": "white"
          },
          "hoverlabel": {
           "align": "left"
          },
          "hovermode": "closest",
          "mapbox": {
           "style": "light"
          },
          "paper_bgcolor": "white",
          "plot_bgcolor": "#E5ECF6",
          "polar": {
           "angularaxis": {
            "gridcolor": "white",
            "linecolor": "white",
            "ticks": ""
           },
           "bgcolor": "#E5ECF6",
           "radialaxis": {
            "gridcolor": "white",
            "linecolor": "white",
            "ticks": ""
           }
          },
          "scene": {
           "xaxis": {
            "backgroundcolor": "#E5ECF6",
            "gridcolor": "white",
            "gridwidth": 2,
            "linecolor": "white",
            "showbackground": true,
            "ticks": "",
            "zerolinecolor": "white"
           },
           "yaxis": {
            "backgroundcolor": "#E5ECF6",
            "gridcolor": "white",
            "gridwidth": 2,
            "linecolor": "white",
            "showbackground": true,
            "ticks": "",
            "zerolinecolor": "white"
           },
           "zaxis": {
            "backgroundcolor": "#E5ECF6",
            "gridcolor": "white",
            "gridwidth": 2,
            "linecolor": "white",
            "showbackground": true,
            "ticks": "",
            "zerolinecolor": "white"
           }
          },
          "shapedefaults": {
           "line": {
            "color": "#2a3f5f"
           }
          },
          "ternary": {
           "aaxis": {
            "gridcolor": "white",
            "linecolor": "white",
            "ticks": ""
           },
           "baxis": {
            "gridcolor": "white",
            "linecolor": "white",
            "ticks": ""
           },
           "bgcolor": "#E5ECF6",
           "caxis": {
            "gridcolor": "white",
            "linecolor": "white",
            "ticks": ""
           }
          },
          "title": {
           "x": 0.05
          },
          "xaxis": {
           "automargin": true,
           "gridcolor": "white",
           "linecolor": "white",
           "ticks": "",
           "title": {
            "standoff": 15
           },
           "zerolinecolor": "white",
           "zerolinewidth": 2
          },
          "yaxis": {
           "automargin": true,
           "gridcolor": "white",
           "linecolor": "white",
           "ticks": "",
           "title": {
            "standoff": 15
           },
           "zerolinecolor": "white",
           "zerolinewidth": 2
          }
         }
        }
       }
      }
     },
     "metadata": {},
     "output_type": "display_data"
    }
   ],
   "source": [
    "import plotly.graph_objects as go\n",
    "\n",
    "# Group by the column and count the values\n",
    "sources = filtered[3]\n",
    "\n",
    "# Extract labels and values directly\n",
    "labels = list(sources.keys())\n",
    "values = list(sources.values())\n",
    "\n",
    "fig = go.Figure(data=[go.Pie(\n",
    "    labels=labels,\n",
    "    values=values,\n",
    "    hoverinfo='label+value+percent',\n",
    "    hovertemplate=\"<b>%{label}</b><br>Notícias: %{value}<br>Percentagem: %{percent:.2%}<extra></extra>\"\n",
    ")])\n",
    "\n",
    "fig.update_traces(\n",
    "    textposition='inside',\n",
    "    textinfo='label',\n",
    "    textfont_size=12\n",
    ")\n",
    "\n",
    "fig.update_layout(\n",
    "    showlegend=False,\n",
    "    paper_bgcolor='rgba(0,0,0,0)',\n",
    "    plot_bgcolor='rgba(0,0,0,0)',\n",
    "    margin=dict(t=25, b=25, l=0, r=0)\n",
    ")\n",
    "\n",
    "fig.show(\n",
    "    config={'displayModeBar': False}\n",
    ")"
   ]
  },
  {
   "cell_type": "markdown",
   "metadata": {},
   "source": [
    "### related news\n",
    "\n",
    "json"
   ]
  },
  {
   "cell_type": "code",
   "execution_count": 24,
   "metadata": {},
   "outputs": [],
   "source": [
    "import re\n",
    "\n",
    "def news_topicrelation(json_searchtopic_data):\n",
    "\n",
    "    company_logos = [\n",
    "        'record.png',\n",
    "        'noticiasaominuto.png',\n",
    "        'lusa.png',\n",
    "        'jornaldenegocios.png',\n",
    "        'tsf.png',\n",
    "        'sicnoticias.png',\n",
    "        'expresso.png',\n",
    "        'publico.png',\n",
    "        'dn.png',\n",
    "        'observador.png',\n",
    "        'sapo.png',\n",
    "        'iol.png',\n",
    "        'rtp.png',\n",
    "        'cnn.png',\n",
    "        'cmjornal.png',\n",
    "        'jn.png',\n",
    "        'nit.png',\n",
    "        'dinheirovivo.png',\n",
    "        'aeiou.png',\n",
    "    ]\n",
    "\n",
    "    divs = {}\n",
    "    titles = set()\n",
    "\n",
    "    for url in json_searchtopic_data:\n",
    "        link_content = url.split(\"/\")\n",
    "\n",
    "        # set title\n",
    "        title = link_content[-1] if link_content[-1] != \"\" else link_content[-2]\n",
    "        title = title.split(\"?\")[0].split(\"_\")[0]\n",
    "        title = re.sub(r'^\\d{4}-\\d{2}-\\d{2}-', '', title)\n",
    "        title = title.lower() if \"-\" in title else \"Sem título disponível...\"\n",
    "\n",
    "        # check if title is repeated\n",
    "        if title not in titles:\n",
    "            titles.add(title)\n",
    "        else:\n",
    "            continue\n",
    "\n",
    "        # set date\n",
    "        date = link_content[5]\n",
    "        date = f\"{date[:4]}-{date[4:6]}-{date[6:8]}\"\n",
    "\n",
    "        # set source\n",
    "        company = link_content[8].replace(\"www.\", \"\")\n",
    "\n",
    "        # get source logo if exists\n",
    "        is_there_a_logo = False\n",
    "        for img in company_logos:\n",
    "            if img[:-4] in company:\n",
    "                img = f\"0news_logos/{img}\"\n",
    "                is_there_a_logo = True\n",
    "                break\n",
    "        if not is_there_a_logo:\n",
    "            img = \"0news_logos/404.png\"\n",
    "\n",
    "        # create the div\n",
    "        div = f\"\"\"\n",
    "                            <div class=\"testimonial-item bg-transparent border rounded text-white p-4\">\n",
    "                                <i class=\"fa fa-quote-left fa-2x mb-3\"></i>\n",
    "                                <a href=\"{url}\" target=\"_blank\" rel=\"noopener noreferrer\" class=\"d-block text-decoration-none mb-3\" style=\"color: inherit; height: 4.5em;\">\n",
    "                                    <p style=\"margin: 0; text-overflow: ellipsis; overflow: hidden; display: -webkit-box; -webkit-line-clamp: 3; -webkit-box-orient: vertical; height: 100%;\">{title}</p>\n",
    "                                </a>\n",
    "                                <div class=\"d-flex align-items-center\">\n",
    "                                    <img class=\"img-fluid flex-shrink-0 rounded-circle\" src=\"{img}\" style=\"width: 50px; height: 50px;\">\n",
    "                                    <div class=\"ps-3\">\n",
    "                                        <h6 class=\"text-white mb-1\">\n",
    "                                            {company} \n",
    "                                            <a href=\"{url}\" target=\"_blank\" rel=\"noopener noreferrer\" style=\"margin-left: 5px;\">\n",
    "                                                <i class=\"bi bi-box-arrow-up-right\"></i>\n",
    "                                            </a>\n",
    "                                        </h6>\n",
    "                                        <small>{date[:-3]}</small>\n",
    "                                    </div>\n",
    "                                </div>\n",
    "                            </div>\n",
    "        \"\"\"\n",
    "\n",
    "        # save the div\n",
    "        if date in divs:\n",
    "            divs[date].append(div)\n",
    "        else:\n",
    "            divs[date] = [div]\n",
    "\n",
    "    # sort the divs by date and prepare for output\n",
    "    divs = dict(sorted(divs.items(), key=lambda item: item[0], reverse=False))\n",
    "    divs = \"\\n\".join([div for divs_list in divs.values() for div in divs_list])\n",
    "\n",
    "    return divs, len(titles)\n",
    "\n",
    "\n",
    "\n",
    "# get the divs and the number of news\n",
    "divs, num_news = news_topicrelation(filtered[4])\n",
    "\n",
    "# read and replace \"{{ atchim }}\" with divs\n",
    "#with open(\"0info_urls.html\", \"r\") as f:\n",
    "#    content = f.read()\n",
    "\n",
    "#content = content.replace(\"{{ atchim }}\", divs)\n",
    "\n",
    "# write the new content\n",
    "#with open(\"0.html\", \"w\") as f:\n",
    "#    f.write(content)"
   ]
  }
 ],
 "metadata": {
  "kernelspec": {
   "display_name": "InfoMosaic",
   "language": "python",
   "name": "python3"
  },
  "language_info": {
   "codemirror_mode": {
    "name": "ipython",
    "version": 3
   },
   "file_extension": ".py",
   "mimetype": "text/x-python",
   "name": "python",
   "nbconvert_exporter": "python",
   "pygments_lexer": "ipython3",
   "version": "3.10.16"
  }
 },
 "nbformat": 4,
 "nbformat_minor": 2
}
