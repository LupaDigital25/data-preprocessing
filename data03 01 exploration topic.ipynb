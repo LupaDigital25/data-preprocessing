{
 "cells": [
  {
   "cell_type": "code",
   "execution_count": 29,
   "id": "2296983c",
   "metadata": {},
   "outputs": [],
   "source": [
    "import pandas as pd\n",
    "from pyspark.sql import SparkSession\n",
    "\n",
    "spark = SparkSession.builder \\\n",
    "    .appName(\"data03\") \\\n",
    "    .config(\"spark.driver.memory\", \"8g\") \\\n",
    "    .config(\"spark.sql.autoBroadcastJoinThreshold\", -1) \\\n",
    "    .getOrCreate()\n"
   ]
  },
  {
   "cell_type": "code",
   "execution_count": 30,
   "id": "5f53e708",
   "metadata": {},
   "outputs": [
    {
     "name": "stdout",
     "output_type": "stream",
     "text": [
      "+------------------------------------+\n",
      "|value                               |\n",
      "+------------------------------------+\n",
      "|P2 Ípsilon Ímpar Fugas P3           |\n",
      "|laboratório                         |\n",
      "|advogado                            |\n",
      "|descrever                           |\n",
      "|Soup Nazi                           |\n",
      "|divulgar                            |\n",
      "|embaraço                            |\n",
      "|Bares Já                            |\n",
      "|poupar                              |\n",
      "|Coronavírus Saúde Pública Covid-19  |\n",
      "|Lifestyle   Mail                    |\n",
      "|Suécia                              |\n",
      "|meninas                             |\n",
      "|dependência                         |\n",
      "|giga                                |\n",
      "|Covid-19 29 Julho                   |\n",
      "|repetir                             |\n",
      "|Reveladas                           |\n",
      "|pigmentação                         |\n",
      "|Confederação do Comércio de Portugal|\n",
      "+------------------------------------+\n",
      "only showing top 20 rows\n",
      "\n"
     ]
    }
   ],
   "source": [
    "# read text folder\n",
    "df = spark.read.text(\"topics.txt\")\n",
    "df.show(truncate=False)"
   ]
  },
  {
   "cell_type": "code",
   "execution_count": 31,
   "id": "ed1275b2",
   "metadata": {},
   "outputs": [
    {
     "name": "stdout",
     "output_type": "stream",
     "text": [
      "Number of unique topics:  1457234\n"
     ]
    }
   ],
   "source": [
    "# count how many unique topics are there\n",
    "print(\"Number of unique topics: \", df.select(\"value\").count())"
   ]
  },
  {
   "cell_type": "markdown",
   "id": "8df0a48a",
   "metadata": {},
   "source": [
    "---"
   ]
  },
  {
   "cell_type": "code",
   "execution_count": 32,
   "id": "0f969dac",
   "metadata": {},
   "outputs": [
    {
     "name": "stderr",
     "output_type": "stream",
     "text": [
      "[Stage 43:>                                                         (0 + 7) / 7]\r"
     ]
    },
    {
     "name": "stdout",
     "output_type": "stream",
     "text": [
      "Total number of tabs in the file:  0\n"
     ]
    },
    {
     "name": "stderr",
     "output_type": "stream",
     "text": [
      "                                                                                \r"
     ]
    }
   ],
   "source": [
    "# count how many \\t are in total\n",
    "def count_tabs(row):\n",
    "    return row.count(\"\\t\")\n",
    "df_rdd = df.rdd.map(lambda row: row[0])\n",
    "df_rdd = df_rdd.map(count_tabs)\n",
    "# count how many \\t are in total\n",
    "total_tabs = df_rdd.reduce(lambda x, y: x + y)\n",
    "print(\"Total number of tabs in the file: \", total_tabs)"
   ]
  },
  {
   "cell_type": "markdown",
   "id": "880eb585",
   "metadata": {},
   "source": [
    "---"
   ]
  },
  {
   "cell_type": "code",
   "execution_count": 33,
   "id": "180e1699",
   "metadata": {},
   "outputs": [
    {
     "name": "stderr",
     "output_type": "stream",
     "text": [
      "[Stage 44:>                                                         (0 + 7) / 7]\r"
     ]
    },
    {
     "name": "stdout",
     "output_type": "stream",
     "text": [
      "Total number of spaces in the file:  301448\n"
     ]
    },
    {
     "name": "stderr",
     "output_type": "stream",
     "text": [
      "                                                                                \r"
     ]
    }
   ],
   "source": [
    "# count how many \"  \" are in total\n",
    "def count_spaces(row):\n",
    "    return row.count(\"  \")\n",
    "df_rdd = df.rdd.map(lambda row: row[0])\n",
    "df_rdd = df_rdd.map(count_spaces)\n",
    "# count how many \"  \" are in total\n",
    "total_spaces = df_rdd.reduce(lambda x, y: x + y)\n",
    "print(\"Total number of spaces in the file: \", total_spaces)"
   ]
  },
  {
   "cell_type": "markdown",
   "id": "ddabbd1a",
   "metadata": {},
   "source": [
    "split multiple spaces into new keys: \"Covid-19  Saúde\": 10 -> \"Covid-19\": x+10, \"Saúde\": y+10\n",
    "\n",
    "but, need to take into account 2*\" \" is same as 3*\" \", so sequential spaces should be treated as one gap (talvez usar regex)"
   ]
  },
  {
   "cell_type": "markdown",
   "id": "6736fe54",
   "metadata": {},
   "source": [
    "---"
   ]
  },
  {
   "cell_type": "code",
   "execution_count": 34,
   "id": "b458d00c",
   "metadata": {},
   "outputs": [
    {
     "name": "stdout",
     "output_type": "stream",
     "text": [
      "Total number of one letter words in the file:  55\n"
     ]
    },
    {
     "name": "stderr",
     "output_type": "stream",
     "text": [
      "                                                                                \r"
     ]
    }
   ],
   "source": [
    "# count how many one letter words are in total\n",
    "def count_one_letter_words(row):\n",
    "    return len(row) == 1\n",
    "df_rdd = df.rdd.map(lambda row: row[0])\n",
    "df_rdd = df_rdd.map(count_one_letter_words)\n",
    "# count how many one letter words are in total\n",
    "total_one_letter_words = df_rdd.reduce(lambda x, y: x + y)\n",
    "print(\"Total number of one letter words in the file: \", total_one_letter_words)"
   ]
  },
  {
   "cell_type": "markdown",
   "id": "8ff39388",
   "metadata": {},
   "source": [
    "remove rows with only one character"
   ]
  },
  {
   "cell_type": "markdown",
   "id": "95cb371d",
   "metadata": {},
   "source": [
    "---"
   ]
  },
  {
   "cell_type": "code",
   "execution_count": 35,
   "id": "7c6c78b0",
   "metadata": {},
   "outputs": [
    {
     "name": "stderr",
     "output_type": "stream",
     "text": [
      "[Stage 47:>                                                         (0 + 7) / 7]\r"
     ]
    },
    {
     "name": "stdout",
     "output_type": "stream",
     "text": [
      "Total number of hours in the file:  1670\n",
      "Total number of dates in the file:  5008\n"
     ]
    },
    {
     "name": "stderr",
     "output_type": "stream",
     "text": [
      "                                                                                \r"
     ]
    }
   ],
   "source": [
    "# count how many hours and dates are in total\n",
    "import re\n",
    "\n",
    "def hours(row):\n",
    "    regex = r\"\\b(?:\\d{1,2}:\\d{2}|\\d{1,2}h\\d{2})\\b\"\n",
    "    return bool(re.search(regex, row))\n",
    "df_rdd = df.rdd.map(lambda row: row[0])\n",
    "df_rdd = df_rdd.map(hours)\n",
    "# count how many hours and dates are in total\n",
    "total_hours = df_rdd.reduce(lambda x, y: x + y)\n",
    "\n",
    "def dates(row):\n",
    "    months = r\"\\b(?:Jan|Fev|Abr|Mai|Jun|Jul|Ago|Set|Out|Nov|Dez)\\b\"\n",
    "    date = r\"\\b(Janeiro|Fevereiro|Março|Abril|Maio|Junho|Julho|Agosto|Setembro|Outubro|Novembro|Dezembro)[ ]?\\d{2,4}\\b\"\n",
    "    march = r\"\\b(?:\\d{1,2} Mar|Mar \\d{2,4})\\b\"\n",
    "    return bool(re.search(months, row)) or bool(re.search(date, row)) or bool(re.search(march, row))\n",
    "df_rdd = df.rdd.map(lambda row: row[0])\n",
    "df_rdd = df_rdd.map(dates)\n",
    "# count how many hours and dates are in total\n",
    "total_dates = df_rdd.reduce(lambda x, y: x + y)\n",
    "\n",
    "print(\"Total number of hours in the file: \", total_hours)\n",
    "print(\"Total number of dates in the file: \", total_dates)"
   ]
  },
  {
   "cell_type": "markdown",
   "id": "d9c886cc",
   "metadata": {},
   "source": [
    "remove rows wich are true in this cases (hours and dates)"
   ]
  },
  {
   "cell_type": "markdown",
   "id": "a6919d15",
   "metadata": {},
   "source": [
    "---"
   ]
  },
  {
   "cell_type": "code",
   "execution_count": 39,
   "id": "d499e8e9",
   "metadata": {},
   "outputs": [
    {
     "name": "stderr",
     "output_type": "stream",
     "text": [
      "[Stage 51:>                                                         (0 + 7) / 7]\r"
     ]
    },
    {
     "name": "stdout",
     "output_type": "stream",
     "text": [
      "Total number of replcament chars in the file:  0\n"
     ]
    },
    {
     "name": "stderr",
     "output_type": "stream",
     "text": [
      "                                                                                \r"
     ]
    }
   ],
   "source": [
    "# count how many replacement chars are in total\n",
    "def replacementchar(row):\n",
    "    return bool(re.search(r\"\\uFFFD\", row))\n",
    "df_rdd = df.rdd.map(lambda row: row[0])\n",
    "df_rdd = df_rdd.map(replacementchar)\n",
    "# count how many hours and dates are in total\n",
    "total_replac = df_rdd.reduce(lambda x, y: x + y)\n",
    "\n",
    "print(\"Total number of replcament chars in the file: \", total_replac)"
   ]
  },
  {
   "cell_type": "markdown",
   "id": "c82612d0",
   "metadata": {},
   "source": [
    "---"
   ]
  },
  {
   "cell_type": "code",
   "execution_count": 40,
   "id": "4b72a0a0",
   "metadata": {},
   "outputs": [
    {
     "name": "stderr",
     "output_type": "stream",
     "text": [
      "[Stage 52:>                                                         (0 + 7) / 7]\r"
     ]
    },
    {
     "name": "stdout",
     "output_type": "stream",
     "text": [
      "Total number of determinanst in the file:  30658\n"
     ]
    },
    {
     "name": "stderr",
     "output_type": "stream",
     "text": [
      "                                                                                \r"
     ]
    }
   ],
   "source": [
    "# count determinanst\n",
    "def determinanst(row):\n",
    "    determinants = r\"^(?:[Oo]s?|[Aa]s?|[Uu]ma?)\\b\"\n",
    "    return bool(re.search(determinants, row))\n",
    "df_rdd = df.rdd.map(lambda row: row[0])\n",
    "df_rdd = df_rdd.map(determinanst)\n",
    "# count how many hours and dates are in total\n",
    "total_determinants = df_rdd.reduce(lambda x, y: x + y)\n",
    "print(\"Total number of determinanst in the file: \", total_determinants)"
   ]
  },
  {
   "cell_type": "markdown",
   "id": "e093f355",
   "metadata": {},
   "source": [
    "remove determinants from the start of the topic"
   ]
  },
  {
   "cell_type": "markdown",
   "id": "732ac3e0",
   "metadata": {},
   "source": [
    "---"
   ]
  },
  {
   "cell_type": "code",
   "execution_count": 66,
   "id": "5222dbd8",
   "metadata": {},
   "outputs": [
    {
     "name": "stderr",
     "output_type": "stream",
     "text": [
      "[Stage 88:========>                                                 (1 + 6) / 7]\r"
     ]
    },
    {
     "name": "stdout",
     "output_type": "stream",
     "text": [
      "Total number of bad rows:  33910\n"
     ]
    },
    {
     "name": "stderr",
     "output_type": "stream",
     "text": [
      "                                                                                \r"
     ]
    }
   ],
   "source": [
    "import re\n",
    "\n",
    "# Define valid Portuguese characters\n",
    "custom_valid = [\n",
    "    \"ã\", \"á\", \"à\", \"â\", \"Á\", \"Ã\",\n",
    "    \"é\", \"ê\", \"É\", \"Ê\",\n",
    "    \"í\", \"Í\",\n",
    "    \"ó\", \"ô\", \"õ\", \"Ó\", \"Õ\",\n",
    "    \"ú\", \"Ú\",\n",
    "    \"ç\", \"-\", \"º\", \"ª\"\n",
    "]\n",
    "\n",
    "fix_map = {\n",
    "    \"ő\": \"õ\", \"Ő\": \"Õ\", \"ť\": \"ç\", \"ťo\": \"ção\",\n",
    "    \"Ã£\": \"ã\", \"Ã¡\": \"á\", \"Ãª\": \"ê\", \"Ã³\": \"ó\",\n",
    "    \"Ã­\": \"í\", \"Ã©\": \"é\", \"Ã§\": \"ç\", \"Ã‰\": \"É\",\n",
    "    \"Ãµ\": \"õ\", \"Ãº\": \"ú\", \"Ã‰\": \"É\", \"ů\": \"ó\",\n",
    "    \"ă\": \"ã\", \"ę\": \"ê\", \"¾\": \"ó\",\n",
    "}\n",
    "\n",
    "def valid_word_detection(text):\n",
    "    return not re.search(rf\"[^a-zA-Z0-9 {''.join(re.escape(c) for c in custom_valid)}]\", text or \"\")\n",
    "\n",
    "def fix_encoding_issues(text):\n",
    "    if not isinstance(text, str):\n",
    "        return text\n",
    "    for enc in [\"latin1\", \"cp1252\"]:\n",
    "        try:\n",
    "            return text.encode(enc).decode(\"utf-8\")\n",
    "        except Exception:\n",
    "            continue\n",
    "    return text\n",
    "\n",
    "def manual_fix(text):\n",
    "    for wrong, right in fix_map.items():\n",
    "        text = text.replace(wrong, right)\n",
    "    return text\n",
    "\n",
    "def fixed_words(row):\n",
    "    if valid_word_detection(row):\n",
    "        return True\n",
    "\n",
    "    else:\n",
    "        fixed_row = fix_encoding_issues(row)\n",
    "        fixed_row = manual_fix(fixed_row)\n",
    "\n",
    "        if valid_word_detection(fixed_row):\n",
    "            return True\n",
    "    \n",
    "    return False\n",
    "\n",
    "\n",
    "df_rdd = df.rdd.map(lambda row: row[0])\n",
    "df_rdd_invalid = df_rdd.filter(lambda row: not fixed_words(row))\n",
    "\n",
    "print(\"Total number of bad rows: \", df_rdd_invalid.count())"
   ]
  },
  {
   "cell_type": "markdown",
   "id": "52bf652e",
   "metadata": {},
   "source": [
    "adjust possible texts, delete impossible texts"
   ]
  },
  {
   "cell_type": "markdown",
   "id": "8eb87280",
   "metadata": {},
   "source": [
    "---"
   ]
  },
  {
   "cell_type": "code",
   "execution_count": null,
   "id": "64377371",
   "metadata": {},
   "outputs": [],
   "source": []
  }
 ],
 "metadata": {
  "kernelspec": {
   "display_name": "InfoMosaic",
   "language": "python",
   "name": "python3"
  },
  "language_info": {
   "codemirror_mode": {
    "name": "ipython",
    "version": 3
   },
   "file_extension": ".py",
   "mimetype": "text/x-python",
   "name": "python",
   "nbconvert_exporter": "python",
   "pygments_lexer": "ipython3",
   "version": "3.10.16"
  }
 },
 "nbformat": 4,
 "nbformat_minor": 5
}
