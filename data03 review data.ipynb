{
 "cells": [
  {
   "cell_type": "markdown",
   "metadata": {},
   "source": [
    "**to-do**\n",
    "\n",
    "- remover duplicados (*manter só primeira linha*)\n",
    "\n",
    "    - links de noticias duplicados\n",
    "\n",
    "    - sets de palavras iguais (ou muito parecidos) que estejam no mesmo mês +-1 mês\n",
    "\n",
    "- remover tópicos inuteis (ex.: Abr, Abr 2018, ...)\n",
    "\n",
    "    - ver quantos são ao todo\n",
    "    \n",
    "    - se forem poucos, ver um a um\n",
    "\n",
    "    - se forem muitos, tentar criar modelo ou lista de palavras tipo meses ou assim\n",
    "\n",
    "    - ver se há tópicos iguais mas diferentes, ex.: Saúde e saúde e se houver, somar tornar todos para minusculo (tlvz fazer lista e ver à mão se fica min ou maisc., mas tlvz a maioria seja minúsculo)\n",
    "\n",
    "- acertar sentimento das notícias\n",
    "\n",
    "    - ao invés de fazer \"batota no grafo\", corrigir distribuição de sentimentos nas noticias\n",
    "\n",
    "    - ver distribuicao inicial graficamente, tentar aproximar a uma distribuição normal mas sem criar um enviesamento do sentimento real\n",
    "\n",
    "- pequisa generalizada\n",
    "\n",
    "    - facilitar pesquisa de topicos, ex.: Banco de Portugal != banco de portugal\n",
    "\n",
    "    - criar coluna de \"topics_in_news\" ou assim\n",
    "\n",
    "        - set de palavras que aparecem na noticia >= 5 vezes\n",
    "\n",
    "        - palavras minusculas, sem acentos, ...\n",
    "\n",
    "        - converter por exemplo: Banco de Portugal -> banco de portugal, banco, portugal\n",
    "\n",
    "    - adaptar pesquisa de tópico da app para usar esta nova coluna\n",
    "\n",
    "- passar dados para o melhor formato posível\n",
    "\n",
    "    - parquet vs json\n",
    "\n",
    "    - multiplos ficheiros pequenos vs alguns médios vs um grande\n",
    "\n",
    "    - guardar em base de dados\n",
    "\n",
    "    - adaptar leitura dos dados para o novo formato"
   ]
  },
  {
   "cell_type": "markdown",
   "metadata": {},
   "source": []
  }
 ],
 "metadata": {
  "kernelspec": {
   "display_name": "InfoMosaic",
   "language": "python",
   "name": "python3"
  },
  "language_info": {
   "codemirror_mode": {
    "name": "ipython",
    "version": 3
   },
   "file_extension": ".py",
   "mimetype": "text/x-python",
   "name": "python",
   "nbconvert_exporter": "python",
   "pygments_lexer": "ipython3",
   "version": "3.10.16"
  }
 },
 "nbformat": 4,
 "nbformat_minor": 2
}
